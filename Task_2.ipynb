{
  "cells": [
    {
      "cell_type": "markdown",
      "metadata": {
        "id": "O4lZnsnuj46D"
      },
      "source": [
        "# Numpy\n",
        "\n"
      ]
    },
    {
      "cell_type": "markdown",
      "metadata": {
        "id": "pXifZv9Yj46I"
      },
      "source": [
        "#### 1. Import the numpy package under the name `np` (★☆☆) \n",
        "(**hint**: import … as …)"
      ]
    },
    {
      "cell_type": "code",
      "execution_count": 1,
      "metadata": {
        "collapsed": true,
        "id": "E_dqoW3aj46J"
      },
      "outputs": [],
      "source": [
        "import numpy as np"
      ]
    },
    {
      "cell_type": "markdown",
      "metadata": {
        "id": "FpgYlpu5j46J"
      },
      "source": [
        "#### 2. Print the numpy version and the configuration (★☆☆) \n",
        "(**hint**: np.\\_\\_version\\_\\_, np.show\\_config)"
      ]
    },
    {
      "cell_type": "code",
      "execution_count": 2,
      "metadata": {
        "id": "IdTMDSzsj46K",
        "colab": {
          "base_uri": "https://localhost:8080/"
        },
        "outputId": "5b6c576b-b1f6-4456-f933-4136a00e0aae"
      },
      "outputs": [
        {
          "output_type": "execute_result",
          "data": {
            "text/plain": [
              "('1.21.5', <function numpy.__config__.show>)"
            ]
          },
          "metadata": {},
          "execution_count": 2
        }
      ],
      "source": [
        "np.__version__, np.show_config"
      ]
    },
    {
      "cell_type": "markdown",
      "metadata": {
        "id": "FaXiX8mvj46K"
      },
      "source": [
        "#### 3. Create a null vector of size 10 (★☆☆) \n",
        "(**hint**: np.zeros)"
      ]
    },
    {
      "cell_type": "code",
      "execution_count": 3,
      "metadata": {
        "id": "jQrYhYDij46L",
        "colab": {
          "base_uri": "https://localhost:8080/"
        },
        "outputId": "c5b097e5-9978-40e0-d4cc-6e89140e9fe7"
      },
      "outputs": [
        {
          "output_type": "stream",
          "name": "stdout",
          "text": [
            "[0. 0. 0. 0. 0. 0. 0. 0. 0. 0.]\n"
          ]
        }
      ],
      "source": [
        "x = np.zeros(10)\n",
        "print(x)"
      ]
    },
    {
      "cell_type": "markdown",
      "metadata": {
        "id": "7keaLr9vj46L"
      },
      "source": [
        "#### 4.  How to find the memory size of any array (★☆☆) \n",
        "(**hint**: size, itemsize)"
      ]
    },
    {
      "cell_type": "code",
      "execution_count": 4,
      "metadata": {
        "id": "nXjoNlM4j46M",
        "colab": {
          "base_uri": "https://localhost:8080/"
        },
        "outputId": "58277190-d349-41d7-a242-9e2054bb494a"
      },
      "outputs": [
        {
          "output_type": "stream",
          "name": "stdout",
          "text": [
            "800\n"
          ]
        }
      ],
      "source": [
        "x=np.zeros((10,10))\n",
        "print(x.size * x.itemsize)"
      ]
    },
    {
      "cell_type": "markdown",
      "metadata": {
        "id": "Nhz1GKODj46M"
      },
      "source": [
        "#### 5.  How to get the documentation of the numpy add function from the command line? (★☆☆) \n",
        "(**hint**: np.info)"
      ]
    },
    {
      "cell_type": "code",
      "execution_count": 5,
      "metadata": {
        "collapsed": true,
        "id": "mWmlavpOj46N",
        "colab": {
          "base_uri": "https://localhost:8080/"
        },
        "outputId": "a47be0ec-c015-4e99-a965-1c4201ebda32"
      },
      "outputs": [
        {
          "output_type": "stream",
          "name": "stdout",
          "text": [
            "add(x1, x2, /, out=None, *, where=True, casting='same_kind', order='K', dtype=None, subok=True[, signature, extobj])\n",
            "\n",
            "Add arguments element-wise.\n",
            "\n",
            "Parameters\n",
            "----------\n",
            "x1, x2 : array_like\n",
            "    The arrays to be added.\n",
            "    If ``x1.shape != x2.shape``, they must be broadcastable to a common\n",
            "    shape (which becomes the shape of the output).\n",
            "out : ndarray, None, or tuple of ndarray and None, optional\n",
            "    A location into which the result is stored. If provided, it must have\n",
            "    a shape that the inputs broadcast to. If not provided or None,\n",
            "    a freshly-allocated array is returned. A tuple (possible only as a\n",
            "    keyword argument) must have length equal to the number of outputs.\n",
            "where : array_like, optional\n",
            "    This condition is broadcast over the input. At locations where the\n",
            "    condition is True, the `out` array will be set to the ufunc result.\n",
            "    Elsewhere, the `out` array will retain its original value.\n",
            "    Note that if an uninitialized `out` array is created via the default\n",
            "    ``out=None``, locations within it where the condition is False will\n",
            "    remain uninitialized.\n",
            "**kwargs\n",
            "    For other keyword-only arguments, see the\n",
            "    :ref:`ufunc docs <ufuncs.kwargs>`.\n",
            "\n",
            "Returns\n",
            "-------\n",
            "add : ndarray or scalar\n",
            "    The sum of `x1` and `x2`, element-wise.\n",
            "    This is a scalar if both `x1` and `x2` are scalars.\n",
            "\n",
            "Notes\n",
            "-----\n",
            "Equivalent to `x1` + `x2` in terms of array broadcasting.\n",
            "\n",
            "Examples\n",
            "--------\n",
            ">>> np.add(1.0, 4.0)\n",
            "5.0\n",
            ">>> x1 = np.arange(9.0).reshape((3, 3))\n",
            ">>> x2 = np.arange(3.0)\n",
            ">>> np.add(x1, x2)\n",
            "array([[  0.,   2.,   4.],\n",
            "       [  3.,   5.,   7.],\n",
            "       [  6.,   8.,  10.]])\n",
            "\n",
            "The ``+`` operator can be used as a shorthand for ``np.add`` on ndarrays.\n",
            "\n",
            ">>> x1 = np.arange(9.0).reshape((3, 3))\n",
            ">>> x2 = np.arange(3.0)\n",
            ">>> x1 + x2\n",
            "array([[ 0.,  2.,  4.],\n",
            "       [ 3.,  5.,  7.],\n",
            "       [ 6.,  8., 10.]])\n"
          ]
        }
      ],
      "source": [
        "np.info(np.add)"
      ]
    },
    {
      "cell_type": "markdown",
      "metadata": {
        "id": "OOWYKgfAj46N"
      },
      "source": [
        "#### 6.  Create a null vector of size 10 but the fifth value which is 1 (★☆☆) \n",
        "(**hint**: array\\[4\\])"
      ]
    },
    {
      "cell_type": "code",
      "execution_count": 6,
      "metadata": {
        "id": "0SB77U4Oj46N",
        "colab": {
          "base_uri": "https://localhost:8080/"
        },
        "outputId": "0d2c31a7-e603-476d-a8c7-cd3d023d30e2"
      },
      "outputs": [
        {
          "output_type": "stream",
          "name": "stdout",
          "text": [
            "[0. 0. 0. 0. 1. 0. 0. 0. 0. 0.]\n"
          ]
        }
      ],
      "source": [
        "x = np.zeros(10)\n",
        "x[4] = 1\n",
        "print(x)"
      ]
    },
    {
      "cell_type": "markdown",
      "metadata": {
        "id": "qxXMlMSPj46O"
      },
      "source": [
        "#### 7.  Create a vector with values ranging from 10 to 49 (★☆☆) \n",
        "(**hint**: np.arange)"
      ]
    },
    {
      "cell_type": "code",
      "execution_count": 7,
      "metadata": {
        "id": "pUSasOuDj46O",
        "colab": {
          "base_uri": "https://localhost:8080/"
        },
        "outputId": "3d85d05d-0b73-4b95-d8ab-02f03f44eeec"
      },
      "outputs": [
        {
          "output_type": "stream",
          "name": "stdout",
          "text": [
            "[10 11 12 13 14 15 16 17 18 19 20 21 22 23 24 25 26 27 28 29 30 31 32 33\n",
            " 34 35 36 37 38 39 40 41 42 43 44 45 46 47 48 49]\n"
          ]
        }
      ],
      "source": [
        "x= np.arange(10,50)\n",
        "\n",
        "print(x)"
      ]
    },
    {
      "cell_type": "markdown",
      "metadata": {
        "id": "ohy1HDMDj46O"
      },
      "source": [
        "#### 8.  Reverse a vector (first element becomes last) (★☆☆) \n",
        "(**hint**: array\\[::-1\\])"
      ]
    },
    {
      "cell_type": "code",
      "execution_count": 8,
      "metadata": {
        "id": "aM4UZ47wj46O",
        "colab": {
          "base_uri": "https://localhost:8080/"
        },
        "outputId": "a0f68c5c-ef1d-4c79-fe71-c2ff53683961"
      },
      "outputs": [
        {
          "output_type": "stream",
          "name": "stdout",
          "text": [
            "[4 3 2 1 0]\n"
          ]
        }
      ],
      "source": [
        "x=np.arange(5)\n",
        "x=x[::-1]\n",
        "print(x)"
      ]
    },
    {
      "cell_type": "markdown",
      "metadata": {
        "id": "zbA2kFZJj46P"
      },
      "source": [
        "#### 9.  Create a 3x3 matrix with values ranging from 0 to 8 (★☆☆) \n",
        "(**hint**: reshape)"
      ]
    },
    {
      "cell_type": "code",
      "execution_count": 9,
      "metadata": {
        "id": "BCtgjgU2j46P",
        "colab": {
          "base_uri": "https://localhost:8080/"
        },
        "outputId": "59864f9f-69e1-4c0a-82f6-187829ccfd79"
      },
      "outputs": [
        {
          "output_type": "stream",
          "name": "stdout",
          "text": [
            "[[0 1 2]\n",
            " [3 4 5]\n",
            " [6 7 8]]\n"
          ]
        }
      ],
      "source": [
        "x= np.arange(9).reshape(3,3)\n",
        "print(x)"
      ]
    },
    {
      "cell_type": "markdown",
      "metadata": {
        "id": "Q9t5qAwij46P"
      },
      "source": [
        "#### 10. Find indices of non-zero elements from \\[1,2,0,0,4,0\\] (★☆☆) \n",
        "(**hint**: np.nonzero)"
      ]
    },
    {
      "cell_type": "code",
      "execution_count": 10,
      "metadata": {
        "id": "1n_qcWY4j46P",
        "colab": {
          "base_uri": "https://localhost:8080/"
        },
        "outputId": "14607310-d977-4556-f4e2-fd957b958743"
      },
      "outputs": [
        {
          "output_type": "stream",
          "name": "stdout",
          "text": [
            "(array([0, 1, 4]),)\n"
          ]
        }
      ],
      "source": [
        "x=np.nonzero([1,2,0,0,4,0])\n",
        "print(x)"
      ]
    },
    {
      "cell_type": "markdown",
      "metadata": {
        "id": "cc18mxvlj46P"
      },
      "source": [
        "#### 11. Create a 3x3 identity matrix (★☆☆) \n",
        "(**hint**: np.eye)"
      ]
    },
    {
      "cell_type": "code",
      "execution_count": 11,
      "metadata": {
        "id": "Qtlg3kP4j46Q",
        "colab": {
          "base_uri": "https://localhost:8080/"
        },
        "outputId": "013de962-c127-4038-c09e-e457bc2b44d6"
      },
      "outputs": [
        {
          "output_type": "stream",
          "name": "stdout",
          "text": [
            "[[1. 0. 0.]\n",
            " [0. 1. 0.]\n",
            " [0. 0. 1.]]\n"
          ]
        }
      ],
      "source": [
        "y = np.eye(3)\n",
        "print(y)"
      ]
    },
    {
      "cell_type": "markdown",
      "metadata": {
        "id": "J3mcYt1bj46Q"
      },
      "source": [
        "#### 12. Create a 3x3x3 array with random values (★☆☆) \n",
        "(**hint**: np.random.random)"
      ]
    },
    {
      "cell_type": "code",
      "execution_count": 12,
      "metadata": {
        "collapsed": true,
        "id": "aji7lDC2j46Q",
        "colab": {
          "base_uri": "https://localhost:8080/"
        },
        "outputId": "0b0a5e71-c45b-4a1a-e862-2b871fb350dc"
      },
      "outputs": [
        {
          "output_type": "stream",
          "name": "stdout",
          "text": [
            "[[[0.24521536 0.16842374 0.51283025]\n",
            "  [0.3423629  0.30387648 0.51301924]\n",
            "  [0.09532705 0.91553113 0.01686958]]\n",
            "\n",
            " [[0.98320529 0.98140723 0.97227675]\n",
            "  [0.00790445 0.69246973 0.89553438]\n",
            "  [0.46342676 0.6606384  0.44818568]]\n",
            "\n",
            " [[0.77374278 0.39736947 0.82145615]\n",
            "  [0.87811483 0.16348089 0.42061759]\n",
            "  [0.71109672 0.29372753 0.06574083]]]\n"
          ]
        }
      ],
      "source": [
        "y=np.random.random((3,3,3))\n",
        "print(y)"
      ]
    },
    {
      "cell_type": "markdown",
      "metadata": {
        "id": "Ig6HqmQDj46Q"
      },
      "source": [
        "#### 13. Create a 10x10 array with random values and find the minimum and maximum values (★☆☆) \n",
        "(**hint**: min, max)"
      ]
    },
    {
      "cell_type": "code",
      "execution_count": 13,
      "metadata": {
        "id": "lk7VZERkj46Q",
        "colab": {
          "base_uri": "https://localhost:8080/"
        },
        "outputId": "b3779aaa-cbb7-4c37-f53d-83d7372a5c8c"
      },
      "outputs": [
        {
          "output_type": "stream",
          "name": "stdout",
          "text": [
            "0.011702383467072086 0.9843676312256984\n"
          ]
        }
      ],
      "source": [
        "y=np.random.random((10,10))\n",
        "ymin, ymax = y.min(), y.max()\n",
        "print(ymin, ymax)"
      ]
    },
    {
      "cell_type": "markdown",
      "metadata": {
        "id": "qs9nIKbOj46Q"
      },
      "source": [
        "#### 14. Create a random vector of size 30 and find the mean value (★☆☆) \n",
        "(**hint**: mean)"
      ]
    },
    {
      "cell_type": "code",
      "execution_count": 14,
      "metadata": {
        "id": "p6IuZ_3Pj46R",
        "colab": {
          "base_uri": "https://localhost:8080/"
        },
        "outputId": "dbc3da5b-d78c-40dd-8e47-73cc9e11a1f7"
      },
      "outputs": [
        {
          "output_type": "execute_result",
          "data": {
            "text/plain": [
              "0.6324316663122199"
            ]
          },
          "metadata": {},
          "execution_count": 14
        }
      ],
      "source": [
        "y= np.random.random(30)\n",
        "y.mean()"
      ]
    },
    {
      "cell_type": "markdown",
      "metadata": {
        "id": "TrMgcctqj46R"
      },
      "source": [
        "#### 15. Create a 2d array with 1 on the border and 0 inside (★☆☆) \n",
        "(**hint**: array\\[1:-1, 1:-1\\])"
      ]
    },
    {
      "cell_type": "code",
      "execution_count": 15,
      "metadata": {
        "id": "eJLt-QIzj46R",
        "colab": {
          "base_uri": "https://localhost:8080/"
        },
        "outputId": "5651d31b-eaeb-4a88-ea82-732669d92c89"
      },
      "outputs": [
        {
          "output_type": "execute_result",
          "data": {
            "text/plain": [
              "array([[1, 1, 1, 1, 1],\n",
              "       [1, 0, 0, 0, 1],\n",
              "       [1, 0, 0, 0, 1],\n",
              "       [1, 0, 0, 0, 1],\n",
              "       [1, 1, 1, 1, 1]])"
            ]
          },
          "metadata": {},
          "execution_count": 15
        }
      ],
      "source": [
        "y=np.ones((5,5),dtype=int)\n",
        "y[1:-1,1:-1]=0\n",
        "y"
      ]
    },
    {
      "cell_type": "markdown",
      "metadata": {
        "id": "i-BENypKj46R"
      },
      "source": [
        "#### 16. How to add a border (filled with 0's) around an existing array? (★☆☆) \n",
        "(**hint**: np.pad)"
      ]
    },
    {
      "cell_type": "code",
      "execution_count": 16,
      "metadata": {
        "id": "q93J3M_Pj46R",
        "colab": {
          "base_uri": "https://localhost:8080/"
        },
        "outputId": "577a146e-0c30-406f-b15c-96dfed95cb45"
      },
      "outputs": [
        {
          "output_type": "execute_result",
          "data": {
            "text/plain": [
              "array([[0, 0, 0, 0, 0, 0, 0],\n",
              "       [0, 1, 1, 1, 1, 1, 0],\n",
              "       [0, 1, 1, 1, 1, 1, 0],\n",
              "       [0, 1, 1, 1, 1, 1, 0],\n",
              "       [0, 1, 1, 1, 1, 1, 0],\n",
              "       [0, 1, 1, 1, 1, 1, 0],\n",
              "       [0, 0, 0, 0, 0, 0, 0]])"
            ]
          },
          "metadata": {},
          "execution_count": 16
        }
      ],
      "source": [
        "y=np.ones((5,5),dtype=int)\n",
        "y=np.pad(y, pad_width=1, mode='constant', constant_values=0)\n",
        "y"
      ]
    },
    {
      "cell_type": "markdown",
      "metadata": {
        "id": "-KpizDEej46R"
      },
      "source": [
        "#### 17. What is the result of the following expression? (★☆☆) \n",
        "(**hint**: NaN = not a number, inf = infinity)"
      ]
    },
    {
      "cell_type": "markdown",
      "metadata": {
        "id": "piDJrffpj46R"
      },
      "source": [
        "```python\n",
        "0 * np.nan\n",
        "np.nan == np.nan\n",
        "np.inf > np.nan\n",
        "np.nan - np.nan\n",
        "0.3 == 3 * 0.1\n",
        "```"
      ]
    },
    {
      "cell_type": "code",
      "execution_count": 17,
      "metadata": {
        "id": "Rx9Xv015j46S",
        "colab": {
          "base_uri": "https://localhost:8080/"
        },
        "outputId": "fe830292-2a02-47c4-93dd-dda9b750f2a2"
      },
      "outputs": [
        {
          "output_type": "stream",
          "name": "stdout",
          "text": [
            "nan\n",
            "False\n",
            "False\n",
            "nan\n",
            "True\n",
            "False\n"
          ]
        }
      ],
      "source": [
        "print(0 * np.nan)\n",
        "print(np.nan == np.nan)\n",
        "print(np.inf > np.nan)\n",
        "print(np.nan - np.nan)\n",
        "print(np.nan in set([np.nan]))\n",
        "print(0.3 == 3 * 0.1)"
      ]
    },
    {
      "cell_type": "markdown",
      "metadata": {
        "id": "b0A9RTXvj46S"
      },
      "source": [
        "#### 18. Create a 5x5 matrix with values 1,2,3,4 just below the diagonal (★☆☆) \n",
        "(**hint**: np.diag)"
      ]
    },
    {
      "cell_type": "code",
      "execution_count": 18,
      "metadata": {
        "id": "C_a8zJZFj46S",
        "colab": {
          "base_uri": "https://localhost:8080/"
        },
        "outputId": "4e4ae942-d2ee-460d-859a-859772a075db"
      },
      "outputs": [
        {
          "output_type": "execute_result",
          "data": {
            "text/plain": [
              "array([[0, 0, 0, 0, 0],\n",
              "       [1, 0, 0, 0, 0],\n",
              "       [0, 2, 0, 0, 0],\n",
              "       [0, 0, 3, 0, 0],\n",
              "       [0, 0, 0, 4, 0]])"
            ]
          },
          "metadata": {},
          "execution_count": 18
        }
      ],
      "source": [
        "y=np.diag(1+np.arange(4),k=-1)\n",
        "y"
      ]
    },
    {
      "cell_type": "markdown",
      "metadata": {
        "id": "xiK6GKf6j46S"
      },
      "source": [
        "#### 19. Create a 8x8 matrix and fill it with a checkerboard pattern (★☆☆) \n",
        "(**hint**: array\\[::2\\])"
      ]
    },
    {
      "cell_type": "code",
      "execution_count": 19,
      "metadata": {
        "id": "a-pGq9jkj46S",
        "colab": {
          "base_uri": "https://localhost:8080/"
        },
        "outputId": "0b5195fa-de22-4149-a1a8-c678e869dcc5"
      },
      "outputs": [
        {
          "output_type": "execute_result",
          "data": {
            "text/plain": [
              "array([[0, 1, 0, 1, 0, 1, 0, 1],\n",
              "       [1, 0, 1, 0, 1, 0, 1, 0],\n",
              "       [0, 1, 0, 1, 0, 1, 0, 1],\n",
              "       [1, 0, 1, 0, 1, 0, 1, 0],\n",
              "       [0, 1, 0, 1, 0, 1, 0, 1],\n",
              "       [1, 0, 1, 0, 1, 0, 1, 0],\n",
              "       [0, 1, 0, 1, 0, 1, 0, 1],\n",
              "       [1, 0, 1, 0, 1, 0, 1, 0]])"
            ]
          },
          "metadata": {},
          "execution_count": 19
        }
      ],
      "source": [
        "y=np.zeros((8,8),dtype=int)\n",
        "y[1::2,::2] = 1\n",
        "y[::2,1::2] = 1\n",
        "y"
      ]
    },
    {
      "cell_type": "markdown",
      "metadata": {
        "id": "QPGiHfbBj46S"
      },
      "source": [
        "#### 20. Consider a (6,7,8) shape array, what is the index (x,y,z) of the 100th element? \n",
        "(**hint**: np.unravel_index)"
      ]
    },
    {
      "cell_type": "code",
      "execution_count": 20,
      "metadata": {
        "id": "xJcKCDRzj46S",
        "colab": {
          "base_uri": "https://localhost:8080/"
        },
        "outputId": "69e3d18e-bd27-4041-ae22-4655f68e5fd5"
      },
      "outputs": [
        {
          "output_type": "execute_result",
          "data": {
            "text/plain": [
              "(1, 5, 3)"
            ]
          },
          "metadata": {},
          "execution_count": 20
        }
      ],
      "source": [
        "np.unravel_index(99,(6,7,8))"
      ]
    },
    {
      "cell_type": "markdown",
      "metadata": {
        "id": "uxWeMmrIj46T"
      },
      "source": [
        "#### 21. Create a checkerboard 8x8 matrix using the tile function (★☆☆) \n",
        "(**hint**: np.tile)"
      ]
    },
    {
      "cell_type": "code",
      "execution_count": 21,
      "metadata": {
        "id": "NOm3o9Ijj46T",
        "colab": {
          "base_uri": "https://localhost:8080/"
        },
        "outputId": "f88dac02-2976-43a6-f767-ab8ece593d3b"
      },
      "outputs": [
        {
          "output_type": "execute_result",
          "data": {
            "text/plain": [
              "array([[0, 1, 0, 1, 0, 1, 0, 1],\n",
              "       [1, 0, 1, 0, 1, 0, 1, 0],\n",
              "       [0, 1, 0, 1, 0, 1, 0, 1],\n",
              "       [1, 0, 1, 0, 1, 0, 1, 0],\n",
              "       [0, 1, 0, 1, 0, 1, 0, 1],\n",
              "       [1, 0, 1, 0, 1, 0, 1, 0],\n",
              "       [0, 1, 0, 1, 0, 1, 0, 1],\n",
              "       [1, 0, 1, 0, 1, 0, 1, 0]])"
            ]
          },
          "metadata": {},
          "execution_count": 21
        }
      ],
      "source": [
        "z=np.tile( np.array([[0,1],[1,0]]), (4,4))\n",
        "z"
      ]
    },
    {
      "cell_type": "markdown",
      "metadata": {
        "id": "2eVJv7daj46T"
      },
      "source": [
        "#### 22. Normalize a 5x5 random matrix (★☆☆) \n",
        "(**hint**: (x - min) / (max - min))"
      ]
    },
    {
      "cell_type": "code",
      "execution_count": 22,
      "metadata": {
        "id": "NrJulQXcj46T",
        "colab": {
          "base_uri": "https://localhost:8080/"
        },
        "outputId": "ee48a8db-05d6-4d40-8048-c93e9ac3dde6"
      },
      "outputs": [
        {
          "output_type": "execute_result",
          "data": {
            "text/plain": [
              "array([[0.7205392 , 0.64631143, 0.86628178, 1.        , 0.47257105],\n",
              "       [0.05521452, 0.00522072, 0.46039079, 0.        , 0.15873905],\n",
              "       [0.38942936, 0.32207316, 0.32925415, 0.7703702 , 0.86651131],\n",
              "       [0.30578674, 0.69885052, 0.41121374, 0.51361823, 0.63450945],\n",
              "       [0.58449968, 0.05936387, 0.49849535, 0.0043444 , 0.84855391]])"
            ]
          },
          "metadata": {},
          "execution_count": 22
        }
      ],
      "source": [
        "z=np.random.random((5,5))\n",
        "zmax, zmin = z.max(), z.min()\n",
        "z=(z - zmin)/(zmax - zmin)\n",
        "z"
      ]
    },
    {
      "cell_type": "markdown",
      "metadata": {
        "id": "OEdj77Vtj46T"
      },
      "source": [
        "#### 23. Create a custom dtype that describes a color as four unsigned bytes (RGBA) (★☆☆) \n",
        "(**hint**: np.dtype)"
      ]
    },
    {
      "cell_type": "code",
      "execution_count": 23,
      "metadata": {
        "collapsed": true,
        "id": "t0x2pRPJj46T",
        "colab": {
          "base_uri": "https://localhost:8080/"
        },
        "outputId": "59ec3780-de7b-4f7c-fc93-26fad5d040e9"
      },
      "outputs": [
        {
          "output_type": "stream",
          "name": "stderr",
          "text": [
            "/usr/local/lib/python3.7/dist-packages/ipykernel_launcher.py:4: FutureWarning: Passing (type, 1) or '1type' as a synonym of type is deprecated; in a future version of numpy, it will be understood as (type, (1,)) / '(1,)type'.\n",
            "  after removing the cwd from sys.path.\n"
          ]
        }
      ],
      "source": [
        "color = np.dtype([(\"r\", np.ubyte, 1),\n",
        "                  (\"g\", np.ubyte, 1),\n",
        "                  (\"b\", np.ubyte, 1),\n",
        "                  (\"a\", np.ubyte, 1)])"
      ]
    },
    {
      "cell_type": "markdown",
      "metadata": {
        "id": "raY67N2lj46T"
      },
      "source": [
        "#### 24. Multiply a 5x3 matrix by a 3x2 matrix (real matrix product) (★☆☆) \n",
        "(**hint**: np.dot | @)"
      ]
    },
    {
      "cell_type": "code",
      "execution_count": 24,
      "metadata": {
        "id": "MXX8pCemj46T",
        "colab": {
          "base_uri": "https://localhost:8080/"
        },
        "outputId": "ff85794e-356d-4986-dd97-0ebe1d97809d"
      },
      "outputs": [
        {
          "output_type": "stream",
          "name": "stdout",
          "text": [
            "[[3. 3.]\n",
            " [3. 3.]\n",
            " [3. 3.]\n",
            " [3. 3.]\n",
            " [3. 3.]]\n",
            "[[3. 3.]\n",
            " [3. 3.]\n",
            " [3. 3.]\n",
            " [3. 3.]\n",
            " [3. 3.]]\n"
          ]
        }
      ],
      "source": [
        "Z = np.dot(np.ones((5,3)), np.ones((3,2)))\n",
        "print(Z)\n",
        "\n",
        "# Alternative solution, in Python 3.5 and above\n",
        "Z = np.ones((5,3)) @ np.ones((3,2))\n",
        "print(Z)"
      ]
    },
    {
      "cell_type": "markdown",
      "metadata": {
        "id": "IFXtYN1Nj46U"
      },
      "source": [
        "#### 25. Given a 1D array, negate all elements which are between 3 and 8, in place. (★☆☆) \n",
        "(**hint**: >, <=)"
      ]
    },
    {
      "cell_type": "code",
      "execution_count": 25,
      "metadata": {
        "id": "G0ke05qlj46U",
        "colab": {
          "base_uri": "https://localhost:8080/"
        },
        "outputId": "68dec770-fc44-4d37-8dc5-8855b51e3e1f"
      },
      "outputs": [
        {
          "output_type": "stream",
          "name": "stdout",
          "text": [
            "[ 0  1  2  3 -4 -5 -6 -7 -8  9 10]\n"
          ]
        }
      ],
      "source": [
        "Z = np.arange(11)\n",
        "Z[(3 < Z) & (Z <= 8)] *= -1\n",
        "print(Z)"
      ]
    },
    {
      "cell_type": "markdown",
      "metadata": {
        "id": "BsPMDFBmj46U"
      },
      "source": [
        "#### 26. What is the output of the following script? (★☆☆) \n",
        "(**hint**: np.sum)"
      ]
    },
    {
      "cell_type": "markdown",
      "metadata": {
        "id": "eMbJRqR6j46U"
      },
      "source": [
        "```python\n",
        "# Author: Jake VanderPlas\n",
        "\n",
        "print(sum(range(5),-1))\n",
        "from numpy import *\n",
        "print(sum(range(5),-1))\n",
        "```"
      ]
    },
    {
      "cell_type": "code",
      "execution_count": 26,
      "metadata": {
        "id": "8080jYM_j46U",
        "colab": {
          "base_uri": "https://localhost:8080/"
        },
        "outputId": "7ef4ba57-8226-4246-eefe-c3b9e4e96b4a"
      },
      "outputs": [
        {
          "output_type": "stream",
          "name": "stdout",
          "text": [
            "9\n",
            "10\n"
          ]
        }
      ],
      "source": [
        "print(sum(range(5),-1))\n",
        "from numpy import *\n",
        "print(sum(range(5),-1))"
      ]
    },
    {
      "cell_type": "markdown",
      "metadata": {
        "id": "FveZIKU8j46U"
      },
      "source": [
        "#### 27. Consider an integer vector Z, which of these expressions are legal? (★☆☆)"
      ]
    },
    {
      "cell_type": "markdown",
      "metadata": {
        "id": "LAa4RMr0j46U"
      },
      "source": [
        "```python\n",
        "Z**Z\n",
        "2 << Z >> 2\n",
        "Z <- Z\n",
        "1j*Z\n",
        "Z/1/1\n",
        "Z<Z>Z\n",
        "```"
      ]
    },
    {
      "cell_type": "code",
      "execution_count": 27,
      "metadata": {
        "id": "HgveF7iyj46U",
        "colab": {
          "base_uri": "https://localhost:8080/"
        },
        "outputId": "ea27f6b9-60ca-4bea-d3b7-a80086f628a3"
      },
      "outputs": [
        {
          "output_type": "execute_result",
          "data": {
            "text/plain": [
              "array([ 0.,  1.,  2.,  3., -4., -5., -6., -7., -8.,  9., 10.])"
            ]
          },
          "metadata": {},
          "execution_count": 27
        }
      ],
      "source": [
        "\n",
        "2 << Z >> 2\n",
        "Z <- Z\n",
        "1j*Z\n",
        "Z/1/1\n"
      ]
    },
    {
      "cell_type": "markdown",
      "metadata": {
        "id": "WSHn5S5Kj46V"
      },
      "source": [
        "#### 28. What are the result of the following expressions?"
      ]
    },
    {
      "cell_type": "markdown",
      "metadata": {
        "id": "FKBQfXWoj46V"
      },
      "source": [
        "```python\n",
        "np.array(0) / np.array(0)\n",
        "np.array(0) // np.array(0)\n",
        "np.array([np.nan]).astype(int).astype(float)\n",
        "```"
      ]
    },
    {
      "cell_type": "code",
      "execution_count": 28,
      "metadata": {
        "id": "_UaIqpBFj46V",
        "colab": {
          "base_uri": "https://localhost:8080/"
        },
        "outputId": "5cf0a2e5-8d5b-4fc1-910b-5acf7b2a7dbd"
      },
      "outputs": [
        {
          "output_type": "stream",
          "name": "stdout",
          "text": [
            "nan\n",
            "0\n",
            "[-9.22337204e+18]\n"
          ]
        },
        {
          "output_type": "stream",
          "name": "stderr",
          "text": [
            "/usr/local/lib/python3.7/dist-packages/ipykernel_launcher.py:1: RuntimeWarning: invalid value encountered in true_divide\n",
            "  \"\"\"Entry point for launching an IPython kernel.\n",
            "/usr/local/lib/python3.7/dist-packages/ipykernel_launcher.py:2: RuntimeWarning: divide by zero encountered in floor_divide\n",
            "  \n"
          ]
        }
      ],
      "source": [
        "print(np.array(0) / np.array(0))\n",
        "print(np.array(0) // np.array(0))\n",
        "print(np.array([np.nan]).astype(int).astype(float))"
      ]
    },
    {
      "cell_type": "markdown",
      "metadata": {
        "id": "KWcR8vHMj46V"
      },
      "source": [
        "#### 29. How to round away from zero a float array ? (★☆☆) \n",
        "(**hint**: np.uniform, np.copysign, np.ceil, np.abs)"
      ]
    },
    {
      "cell_type": "code",
      "execution_count": 29,
      "metadata": {
        "id": "Ki5DLE5Ej46V",
        "colab": {
          "base_uri": "https://localhost:8080/"
        },
        "outputId": "f18d967a-458c-4882-ceb3-9b4cb10d7d7f"
      },
      "outputs": [
        {
          "output_type": "stream",
          "name": "stdout",
          "text": [
            "[  4.  -7. -10.  -5.  10.   8.  -5.  -6.  10.   6.]\n"
          ]
        }
      ],
      "source": [
        "Z = np.random.uniform(-10,+10,10)\n",
        "print (np.copysign(np.ceil(np.abs(Z)), Z))"
      ]
    },
    {
      "cell_type": "markdown",
      "metadata": {
        "id": "mf-QnZfJj46V"
      },
      "source": [
        "#### 30. How to find common values between two arrays? (★☆☆) \n",
        "(**hint**: np.intersect1d)"
      ]
    },
    {
      "cell_type": "code",
      "execution_count": 30,
      "metadata": {
        "id": "mgrLJQinj46V",
        "colab": {
          "base_uri": "https://localhost:8080/"
        },
        "outputId": "69275fef-5962-499f-8105-8994b7aa886d"
      },
      "outputs": [
        {
          "output_type": "stream",
          "name": "stdout",
          "text": [
            "[1 3]\n"
          ]
        }
      ],
      "source": [
        "Z1 = np.random.randint(0,10,10)\n",
        "Z2 = np.random.randint(0,10,10)\n",
        "print(np.intersect1d(Z1,Z2))"
      ]
    },
    {
      "cell_type": "markdown",
      "metadata": {
        "id": "J4puNdhgj46V"
      },
      "source": [
        "#### 31. How to ignore all numpy warnings (not recommended)? (★☆☆) \n",
        "(**hint**: np.seterr, np.errstate)"
      ]
    },
    {
      "cell_type": "code",
      "execution_count": 31,
      "metadata": {
        "id": "OdvhWLDlj46V"
      },
      "outputs": [],
      "source": [
        "defaults = np.seterr(all=\"ignore\")\n",
        "Z = np.ones(1) / 0\n",
        "\n",
        "# Back to sanity\n",
        "_ = np.seterr(**defaults)"
      ]
    },
    {
      "cell_type": "markdown",
      "source": [
        "An equivalent way, with a context manager:"
      ],
      "metadata": {
        "id": "57hrjRFMllEc"
      }
    },
    {
      "cell_type": "code",
      "source": [
        "with np.errstate(divide='ignore'):\n",
        "    Z = np.ones(1) / 0"
      ],
      "metadata": {
        "id": "ac--hOJIlmL7"
      },
      "execution_count": 32,
      "outputs": []
    },
    {
      "cell_type": "markdown",
      "source": [
        ""
      ],
      "metadata": {
        "id": "SjOtwNJsljR8"
      }
    },
    {
      "cell_type": "markdown",
      "metadata": {
        "id": "d72gfqfqj46V"
      },
      "source": [
        "#### 32. Is the following expressions true? (★☆☆) \n",
        "(**hint**: imaginary number)"
      ]
    },
    {
      "cell_type": "markdown",
      "metadata": {
        "id": "ZI_0aycOj46W"
      },
      "source": [
        "```python\n",
        "np.sqrt(-1) == np.emath.sqrt(-1)\n",
        "```"
      ]
    },
    {
      "cell_type": "code",
      "execution_count": 33,
      "metadata": {
        "id": "njzDCqpVj46W",
        "colab": {
          "base_uri": "https://localhost:8080/"
        },
        "outputId": "ca1a14a3-73ff-4d58-f51a-5a56f1e6c10a"
      },
      "outputs": [
        {
          "output_type": "stream",
          "name": "stderr",
          "text": [
            "/usr/local/lib/python3.7/dist-packages/ipykernel_launcher.py:1: RuntimeWarning: invalid value encountered in sqrt\n",
            "  \"\"\"Entry point for launching an IPython kernel.\n"
          ]
        },
        {
          "output_type": "execute_result",
          "data": {
            "text/plain": [
              "False"
            ]
          },
          "metadata": {},
          "execution_count": 33
        }
      ],
      "source": [
        "np.sqrt(-1) == np.emath.sqrt(-1)"
      ]
    },
    {
      "cell_type": "markdown",
      "metadata": {
        "id": "awUD0TzIj46W"
      },
      "source": [
        "#### 33. How to get the dates of yesterday, today and tomorrow? (★☆☆) \n",
        "(**hint**: np.datetime64, np.timedelta64)"
      ]
    },
    {
      "cell_type": "code",
      "execution_count": 34,
      "metadata": {
        "collapsed": true,
        "id": "yfrPs7FUj46W"
      },
      "outputs": [],
      "source": [
        "yesterday = np.datetime64('today', 'D') - np.timedelta64(1, 'D')\n",
        "today     = np.datetime64('today', 'D')\n",
        "tomorrow  = np.datetime64('today', 'D') + np.timedelta64(1, 'D')"
      ]
    },
    {
      "cell_type": "markdown",
      "metadata": {
        "id": "U9ZZqgxsj46W"
      },
      "source": [
        "#### 34. How to get all the dates corresponding to the month of July 2016? (★★☆) \n",
        "(**hint**: np.arange(dtype=datetime64\\['D'\\]))"
      ]
    },
    {
      "cell_type": "code",
      "execution_count": 35,
      "metadata": {
        "id": "IG_PnZ14j46W",
        "colab": {
          "base_uri": "https://localhost:8080/"
        },
        "outputId": "72977dd3-2cb0-4db8-bf5f-215710669c09"
      },
      "outputs": [
        {
          "output_type": "stream",
          "name": "stdout",
          "text": [
            "['2016-07-01' '2016-07-02' '2016-07-03' '2016-07-04' '2016-07-05'\n",
            " '2016-07-06' '2016-07-07' '2016-07-08' '2016-07-09' '2016-07-10'\n",
            " '2016-07-11' '2016-07-12' '2016-07-13' '2016-07-14' '2016-07-15'\n",
            " '2016-07-16' '2016-07-17' '2016-07-18' '2016-07-19' '2016-07-20'\n",
            " '2016-07-21' '2016-07-22' '2016-07-23' '2016-07-24' '2016-07-25'\n",
            " '2016-07-26' '2016-07-27' '2016-07-28' '2016-07-29' '2016-07-30'\n",
            " '2016-07-31']\n"
          ]
        }
      ],
      "source": [
        "Z = np.arange('2016-07', '2016-08', dtype='datetime64[D]')\n",
        "print(Z)"
      ]
    },
    {
      "cell_type": "markdown",
      "metadata": {
        "id": "Uuz726Mij46W"
      },
      "source": [
        "#### 35. How to compute ((A+B)\\*(-A/2)) in place (without copy)? (★★☆) \n",
        "(**hint**: np.add(out=), np.negative(out=), np.multiply(out=), np.divide(out=))"
      ]
    },
    {
      "cell_type": "code",
      "execution_count": 36,
      "metadata": {
        "id": "hp__Y53Sj46W",
        "colab": {
          "base_uri": "https://localhost:8080/"
        },
        "outputId": "98e1190f-f111-471b-d4fd-a3ca22c790c2"
      },
      "outputs": [
        {
          "output_type": "execute_result",
          "data": {
            "text/plain": [
              "array([-1.5, -1.5, -1.5])"
            ]
          },
          "metadata": {},
          "execution_count": 36
        }
      ],
      "source": [
        "A = np.ones(3)*1\n",
        "B = np.ones(3)*2\n",
        "C = np.ones(3)*3\n",
        "np.add(A,B,out=B)\n",
        "np.divide(A,2,out=A)\n",
        "np.negative(A,out=A)\n",
        "np.multiply(A,B,out=A)"
      ]
    },
    {
      "cell_type": "markdown",
      "metadata": {
        "id": "uHJ9VwA-j46X"
      },
      "source": [
        "#### 36. Extract the integer part of a random array using 5 different methods (★★☆) \n",
        "(**hint**: %, np.floor, np.ceil, astype, np.trunc)"
      ]
    },
    {
      "cell_type": "code",
      "execution_count": 37,
      "metadata": {
        "id": "XojngaX8j46X",
        "colab": {
          "base_uri": "https://localhost:8080/"
        },
        "outputId": "04671aa3-7b0b-40a1-c9d3-622c0ab06ef6"
      },
      "outputs": [
        {
          "output_type": "stream",
          "name": "stdout",
          "text": [
            "[3. 7. 9. 5. 4. 0. 5. 2. 1. 8.]\n",
            "[3. 7. 9. 5. 4. 0. 5. 2. 1. 8.]\n",
            "[3. 7. 9. 5. 4. 0. 5. 2. 1. 8.]\n",
            "[3 7 9 5 4 0 5 2 1 8]\n",
            "[3. 7. 9. 5. 4. 0. 5. 2. 1. 8.]\n"
          ]
        }
      ],
      "source": [
        "Z = np.random.uniform(0,10,10)\n",
        "\n",
        "print (Z - Z%1)\n",
        "print (np.floor(Z))\n",
        "print (np.ceil(Z)-1)\n",
        "print (Z.astype(int))\n",
        "print (np.trunc(Z))"
      ]
    },
    {
      "cell_type": "markdown",
      "metadata": {
        "id": "AAP_Y2rTj46X"
      },
      "source": [
        "#### 37. Create a 5x5 matrix with row values ranging from 0 to 4 (★★☆) \n",
        "(**hint**: np.arange)"
      ]
    },
    {
      "cell_type": "code",
      "execution_count": 38,
      "metadata": {
        "id": "UFlREcdzj46X",
        "colab": {
          "base_uri": "https://localhost:8080/"
        },
        "outputId": "bd3d280d-1c26-4530-fec0-d7acea086800"
      },
      "outputs": [
        {
          "output_type": "stream",
          "name": "stdout",
          "text": [
            "[[0. 1. 2. 3. 4.]\n",
            " [0. 1. 2. 3. 4.]\n",
            " [0. 1. 2. 3. 4.]\n",
            " [0. 1. 2. 3. 4.]\n",
            " [0. 1. 2. 3. 4.]]\n"
          ]
        }
      ],
      "source": [
        "Z = np.zeros((5,5))\n",
        "Z += np.arange(5)\n",
        "print(Z)"
      ]
    },
    {
      "cell_type": "markdown",
      "metadata": {
        "id": "6x-vkgqJj46X"
      },
      "source": [
        "#### 38. Consider a generator function that generates 10 integers and use it to build an array (★☆☆) \n",
        "(**hint**: np.fromiter)"
      ]
    },
    {
      "cell_type": "code",
      "execution_count": 39,
      "metadata": {
        "id": "QrN0WaB_j46X",
        "colab": {
          "base_uri": "https://localhost:8080/"
        },
        "outputId": "8c0ba860-16ed-42f1-8263-0aefbeefff39"
      },
      "outputs": [
        {
          "output_type": "stream",
          "name": "stdout",
          "text": [
            "[0. 1. 2. 3. 4. 5. 6. 7. 8. 9.]\n"
          ]
        }
      ],
      "source": [
        "def generate():\n",
        "    for x in range(10):\n",
        "        yield x\n",
        "Z = np.fromiter(generate(),dtype=float,count=-1)\n",
        "print(Z)"
      ]
    },
    {
      "cell_type": "markdown",
      "metadata": {
        "id": "b17MjTR_j46X"
      },
      "source": [
        "#### 39. Create a vector of size 10 with values ranging from 0 to 1, both excluded (★★☆) \n",
        "(**hint**: np.linspace)"
      ]
    },
    {
      "cell_type": "code",
      "execution_count": 40,
      "metadata": {
        "id": "4sJaRltHj46X",
        "colab": {
          "base_uri": "https://localhost:8080/"
        },
        "outputId": "93483a49-af47-49ca-e8ef-62d671407206"
      },
      "outputs": [
        {
          "output_type": "stream",
          "name": "stdout",
          "text": [
            "[0.09090909 0.18181818 0.27272727 0.36363636 0.45454545 0.54545455\n",
            " 0.63636364 0.72727273 0.81818182 0.90909091]\n"
          ]
        }
      ],
      "source": [
        "Z = np.linspace(0,1,11,endpoint=False)[1:]\n",
        "print(Z)"
      ]
    },
    {
      "cell_type": "markdown",
      "metadata": {
        "id": "lp_laGFfj46Y"
      },
      "source": [
        "#### 40. Create a random vector of size 10 and sort it (★★☆) \n",
        "(**hint**: sort)"
      ]
    },
    {
      "cell_type": "code",
      "execution_count": 41,
      "metadata": {
        "id": "44YD2-XWj46Y",
        "colab": {
          "base_uri": "https://localhost:8080/"
        },
        "outputId": "9daad49c-31db-42df-a527-adc2fab1af5e"
      },
      "outputs": [
        {
          "output_type": "stream",
          "name": "stdout",
          "text": [
            "[0.26347341 0.31973289 0.35425903 0.44583828 0.49944046 0.80842453\n",
            " 0.93409737 0.93435499 0.95506686 0.98150631]\n"
          ]
        }
      ],
      "source": [
        "Z = np.random.random(10)\n",
        "Z.sort()\n",
        "print(Z)"
      ]
    },
    {
      "cell_type": "markdown",
      "metadata": {
        "id": "8bUDcScAj46Y"
      },
      "source": [
        "#### 41. How to sum a small array faster than np.sum? (★★☆) \n",
        "(**hint**: np.add.reduce)"
      ]
    },
    {
      "cell_type": "code",
      "execution_count": 42,
      "metadata": {
        "id": "yhUJWADGj46Y",
        "colab": {
          "base_uri": "https://localhost:8080/"
        },
        "outputId": "ce8bfc1a-b749-4e5f-bf66-ec057360335a"
      },
      "outputs": [
        {
          "output_type": "execute_result",
          "data": {
            "text/plain": [
              "45"
            ]
          },
          "metadata": {},
          "execution_count": 42
        }
      ],
      "source": [
        "Z = np.arange(10)\n",
        "np.add.reduce(Z)"
      ]
    },
    {
      "cell_type": "markdown",
      "metadata": {
        "id": "T8O0vkoLj46Y"
      },
      "source": [
        "#### 42. Consider two random array A and B, check if they are equal (★★☆) \n",
        "(**hint**: np.allclose, np.array\\_equal)"
      ]
    },
    {
      "cell_type": "code",
      "execution_count": 43,
      "metadata": {
        "id": "tjx3fxQgj46Y",
        "colab": {
          "base_uri": "https://localhost:8080/"
        },
        "outputId": "b035812c-40d9-4522-ef91-b927a1bdd549"
      },
      "outputs": [
        {
          "output_type": "stream",
          "name": "stdout",
          "text": [
            "False\n",
            "False\n"
          ]
        }
      ],
      "source": [
        "A = np.random.randint(0,2,5)\n",
        "B = np.random.randint(0,2,5)\n",
        "\n",
        "# Assuming identical shape of the arrays and a tolerance for the comparison of values\n",
        "equal = np.allclose(A,B)\n",
        "print(equal)\n",
        "\n",
        "# Checking both the shape and the element values, no tolerance (values have to be exactly equal)\n",
        "equal = np.array_equal(A,B)\n",
        "print(equal)"
      ]
    },
    {
      "cell_type": "markdown",
      "metadata": {
        "id": "StmTlFJzj46Y"
      },
      "source": [
        "#### 43. Make an array immutable (read-only) (★★☆) \n",
        "(**hint**: flags.writeable)"
      ]
    },
    {
      "cell_type": "code",
      "execution_count": 44,
      "metadata": {
        "id": "i9tM3NlWj46Y",
        "colab": {
          "base_uri": "https://localhost:8080/"
        },
        "outputId": "21bd5227-45da-4a81-f3d2-f897f8a5c2a8"
      },
      "outputs": [
        {
          "output_type": "execute_result",
          "data": {
            "text/plain": [
              "array([0., 0., 0., 0., 0., 0., 0., 0., 0., 0.])"
            ]
          },
          "metadata": {},
          "execution_count": 44
        }
      ],
      "source": [
        "Z = np.zeros(10)\n",
        "Z.flags.writeable = False\n",
        "Z\n",
        "# Z[0] = 1"
      ]
    },
    {
      "cell_type": "markdown",
      "metadata": {
        "id": "Yzs-a0Z2j46Y"
      },
      "source": [
        "#### 44. Consider a random 10x2 matrix representing cartesian coordinates, convert them to polar coordinates (★★☆) \n",
        "(**hint**: np.sqrt, np.arctan2)"
      ]
    },
    {
      "cell_type": "code",
      "execution_count": 45,
      "metadata": {
        "id": "sYgSlAxrj46Z",
        "colab": {
          "base_uri": "https://localhost:8080/"
        },
        "outputId": "e0ac5501-f476-44a6-fd52-11b1473d364c"
      },
      "outputs": [
        {
          "output_type": "stream",
          "name": "stdout",
          "text": [
            "[0.59629499 0.98652991 0.84202004 0.78961941 1.18742258 0.38773619\n",
            " 0.83147738 1.25690804 0.74544163 0.27040662]\n",
            "[1.08231963e+00 1.34292068e+00 2.89460397e-01 1.34122051e-03\n",
            " 8.60201400e-01 1.45131334e+00 1.35044031e+00 8.76000293e-01\n",
            " 5.35519036e-01 5.49495151e-01]\n"
          ]
        }
      ],
      "source": [
        "Z = np.random.random((10,2))\n",
        "X,Y = Z[:,0], Z[:,1]\n",
        "R = np.sqrt(X**2+Y**2)\n",
        "T = np.arctan2(Y,X)\n",
        "print(R)\n",
        "print(T)"
      ]
    },
    {
      "cell_type": "markdown",
      "metadata": {
        "id": "Ab7OKy7Lj46Z"
      },
      "source": [
        "#### 45. Create random vector of size 10 and replace the maximum value by 0 (★★☆) \n",
        "(**hint**: argmax)"
      ]
    },
    {
      "cell_type": "code",
      "execution_count": 46,
      "metadata": {
        "id": "QyTVNGjbj46Z",
        "colab": {
          "base_uri": "https://localhost:8080/"
        },
        "outputId": "4d3524a0-83ff-4d8e-f329-5069dd07d345"
      },
      "outputs": [
        {
          "output_type": "stream",
          "name": "stdout",
          "text": [
            "[0.47237571 0.02849753 0.69488375 0.74337412 0.         0.23953131\n",
            " 0.20255886 0.71160667 0.31374705 0.59895433]\n"
          ]
        }
      ],
      "source": [
        "Z = np.random.random(10)\n",
        "Z[Z.argmax()] = 0\n",
        "print(Z)"
      ]
    },
    {
      "cell_type": "markdown",
      "metadata": {
        "id": "skCLO0Drj46Z"
      },
      "source": [
        "#### 46. Create a structured array with `x` and `y` coordinates covering the \\[0,1\\]x\\[0,1\\] area (★★☆) \n",
        "(**hint**: np.meshgrid)"
      ]
    },
    {
      "cell_type": "code",
      "execution_count": 47,
      "metadata": {
        "id": "HZnBFMlzj46Z",
        "colab": {
          "base_uri": "https://localhost:8080/"
        },
        "outputId": "ec8d7cd4-7f23-4731-8660-e6bb5df3b179"
      },
      "outputs": [
        {
          "output_type": "stream",
          "name": "stdout",
          "text": [
            "[[(0.  , 0.  ) (0.25, 0.  ) (0.5 , 0.  ) (0.75, 0.  ) (1.  , 0.  )]\n",
            " [(0.  , 0.25) (0.25, 0.25) (0.5 , 0.25) (0.75, 0.25) (1.  , 0.25)]\n",
            " [(0.  , 0.5 ) (0.25, 0.5 ) (0.5 , 0.5 ) (0.75, 0.5 ) (1.  , 0.5 )]\n",
            " [(0.  , 0.75) (0.25, 0.75) (0.5 , 0.75) (0.75, 0.75) (1.  , 0.75)]\n",
            " [(0.  , 1.  ) (0.25, 1.  ) (0.5 , 1.  ) (0.75, 1.  ) (1.  , 1.  )]]\n"
          ]
        }
      ],
      "source": [
        "Z = np.zeros((5,5), [('x',float),('y',float)])\n",
        "Z['x'], Z['y'] = np.meshgrid(np.linspace(0,1,5),\n",
        "                             np.linspace(0,1,5))\n",
        "print(Z)"
      ]
    },
    {
      "cell_type": "markdown",
      "metadata": {
        "id": "s-j73dtvj46Z"
      },
      "source": [
        "####  47. Given two arrays, X and Y, construct the Cauchy matrix C (Cij =1/(xi - yj)) \n",
        "(**hint**: np.subtract.outer)"
      ]
    },
    {
      "cell_type": "code",
      "execution_count": 48,
      "metadata": {
        "id": "lvwgbkACj46Z",
        "colab": {
          "base_uri": "https://localhost:8080/"
        },
        "outputId": "0878eb9d-6647-4be1-f833-5b1151c7d6c1"
      },
      "outputs": [
        {
          "output_type": "stream",
          "name": "stdout",
          "text": [
            "3638.163637117973\n"
          ]
        }
      ],
      "source": [
        "X = np.arange(8)\n",
        "Y = X + 0.5\n",
        "C = 1.0 / np.subtract.outer(X, Y)\n",
        "print(np.linalg.det(C))"
      ]
    },
    {
      "cell_type": "markdown",
      "metadata": {
        "id": "2DStqOaFj46Z"
      },
      "source": [
        "#### 48. Print the minimum and maximum representable value for each numpy scalar type (★★☆) \n",
        "(**hint**: np.iinfo, np.finfo, eps)"
      ]
    },
    {
      "cell_type": "code",
      "execution_count": 49,
      "metadata": {
        "id": "RE0rLqvCj46Z",
        "colab": {
          "base_uri": "https://localhost:8080/"
        },
        "outputId": "bb3d96b4-ee88-4a2d-c919-b96ae14247ab"
      },
      "outputs": [
        {
          "output_type": "stream",
          "name": "stdout",
          "text": [
            "-128\n",
            "127\n",
            "-2147483648\n",
            "2147483647\n",
            "-9223372036854775808\n",
            "9223372036854775807\n",
            "-3.4028235e+38\n",
            "3.4028235e+38\n",
            "1.1920929e-07\n",
            "-1.7976931348623157e+308\n",
            "1.7976931348623157e+308\n",
            "2.220446049250313e-16\n"
          ]
        }
      ],
      "source": [
        "for dtype in [np.int8, np.int32, np.int64]:\n",
        "   print(np.iinfo(dtype).min)\n",
        "   print(np.iinfo(dtype).max)\n",
        "for dtype in [np.float32, np.float64]:\n",
        "   print(np.finfo(dtype).min)\n",
        "   print(np.finfo(dtype).max)\n",
        "   print(np.finfo(dtype).eps)"
      ]
    },
    {
      "cell_type": "markdown",
      "metadata": {
        "id": "imDLrCsoj46a"
      },
      "source": [
        "#### 49. How to print all the values of an array? (★★☆) \n",
        "(**hint**: np.set\\_printoptions)"
      ]
    },
    {
      "cell_type": "code",
      "execution_count": 50,
      "metadata": {
        "id": "Cm6Nbbq_j46a",
        "colab": {
          "base_uri": "https://localhost:8080/"
        },
        "outputId": "5f5eff79-4500-4ce8-a4b1-4d50a0f7baf6"
      },
      "outputs": [
        {
          "output_type": "stream",
          "name": "stdout",
          "text": [
            "[[0. 0. 0. 0.]\n",
            " [0. 0. 0. 0.]\n",
            " [0. 0. 0. 0.]\n",
            " [0. 0. 0. 0.]]\n"
          ]
        }
      ],
      "source": [
        "# np.set_printoptions(threshold=np.nan)\n",
        "x = np.zeros((4, 4))\n",
        "print(x)"
      ]
    },
    {
      "cell_type": "markdown",
      "metadata": {
        "id": "UncHreGdj46a"
      },
      "source": [
        "#### 50. How to find the closest value (to a given scalar) in a vector? (★★☆) \n",
        "(**hint**: argmin)"
      ]
    },
    {
      "cell_type": "code",
      "execution_count": 51,
      "metadata": {
        "id": "NJRAC6NKj46a",
        "colab": {
          "base_uri": "https://localhost:8080/"
        },
        "outputId": "ac9493ac-c880-4e6e-9bb4-08de898131e2"
      },
      "outputs": [
        {
          "output_type": "stream",
          "name": "stdout",
          "text": [
            "20\n"
          ]
        }
      ],
      "source": [
        "Z = np.arange(100)\n",
        "v = np.random.uniform(0,100)\n",
        "index = (np.abs(Z-v)).argmin()\n",
        "print(Z[index])"
      ]
    },
    {
      "cell_type": "markdown",
      "metadata": {
        "id": "fSkudGs7j46a"
      },
      "source": [
        "#### 51. Create a structured array representing a position (x,y) and a color (r,g,b) (★★☆) \n",
        "(**hint**: dtype)"
      ]
    },
    {
      "cell_type": "code",
      "execution_count": 52,
      "metadata": {
        "id": "D2-AzpQbj46a",
        "colab": {
          "base_uri": "https://localhost:8080/"
        },
        "outputId": "284cc350-3d3e-4975-a46f-1cc82319e38d"
      },
      "outputs": [
        {
          "output_type": "stream",
          "name": "stdout",
          "text": [
            "[((0., 0.), (0., 0., 0.)) ((0., 0.), (0., 0., 0.))\n",
            " ((0., 0.), (0., 0., 0.)) ((0., 0.), (0., 0., 0.))\n",
            " ((0., 0.), (0., 0., 0.)) ((0., 0.), (0., 0., 0.))\n",
            " ((0., 0.), (0., 0., 0.)) ((0., 0.), (0., 0., 0.))\n",
            " ((0., 0.), (0., 0., 0.)) ((0., 0.), (0., 0., 0.))]\n"
          ]
        },
        {
          "output_type": "stream",
          "name": "stderr",
          "text": [
            "/usr/local/lib/python3.7/dist-packages/ipykernel_launcher.py:5: FutureWarning: Passing (type, 1) or '1type' as a synonym of type is deprecated; in a future version of numpy, it will be understood as (type, (1,)) / '(1,)type'.\n",
            "  \"\"\"\n"
          ]
        }
      ],
      "source": [
        "Z = np.zeros(10, [ ('position', [ ('x', float, 1),\n",
        "                                  ('y', float, 1)]),\n",
        "                   ('color',    [ ('r', float, 1),\n",
        "                                  ('g', float, 1),\n",
        "                                  ('b', float, 1)])])\n",
        "print(Z)"
      ]
    },
    {
      "cell_type": "markdown",
      "metadata": {
        "id": "ofs9CCBRj46a"
      },
      "source": [
        "#### 52. Consider a random vector with shape (100,2) representing coordinates, find point by point distances (★★☆) \n",
        "(**hint**: np.atleast\\_2d, T, np.sqrt)"
      ]
    },
    {
      "cell_type": "code",
      "execution_count": 53,
      "metadata": {
        "id": "fkm_IWGzj46a",
        "colab": {
          "base_uri": "https://localhost:8080/"
        },
        "outputId": "8b84bcfb-291a-4bb4-9bef-a5b60ab6c8bd"
      },
      "outputs": [
        {
          "output_type": "stream",
          "name": "stdout",
          "text": [
            "[[0.         0.54324732 0.19671123 0.09388007 0.37173918 0.11985498\n",
            "  0.58213043 0.4841127  0.48421497 0.34779157]\n",
            " [0.54324732 0.         0.45080724 0.53205743 0.17809216 0.44035446\n",
            "  0.30369486 0.38344683 0.06548746 0.23408326]\n",
            " [0.19671123 0.45080724 0.         0.11947919 0.27512374 0.10143694\n",
            "  0.59267866 0.2914375  0.40654006 0.21903928]\n",
            " [0.09388007 0.53205743 0.11947919 0.         0.35431064 0.0945805\n",
            "  0.61949005 0.41059201 0.47921076 0.31349439]\n",
            " [0.37173918 0.17809216 0.27512374 0.35431064 0.         0.26371218\n",
            "  0.36368302 0.29325069 0.13179562 0.07250704]\n",
            " [0.11985498 0.44035446 0.10143694 0.0945805  0.26371218 0.\n",
            "  0.52947587 0.37031301 0.38591463 0.23092055]\n",
            " [0.58213043 0.30369486 0.59267866 0.61949005 0.36368302 0.52947587\n",
            "  0.         0.64951909 0.27406335 0.435271  ]\n",
            " [0.4841127  0.38344683 0.2914375  0.41059201 0.29325069 0.37031301\n",
            "  0.64951909 0.         0.38241744 0.23124701]\n",
            " [0.48421497 0.06548746 0.40654006 0.47921076 0.13179562 0.38591463\n",
            "  0.27406335 0.38241744 0.         0.19836017]\n",
            " [0.34779157 0.23408326 0.21903928 0.31349439 0.07250704 0.23092055\n",
            "  0.435271   0.23124701 0.19836017 0.        ]]\n",
            "[[0.         0.37839909 0.7448452  0.38550944 0.50768376 1.19391771\n",
            "  0.80888867 0.4280572  0.88161976 0.6507261 ]\n",
            " [0.37839909 0.         0.42994513 0.0850083  0.44975264 0.81916924\n",
            "  0.46896665 0.40234064 0.51274488 0.40718182]\n",
            " [0.7448452  0.42994513 0.         0.49588708 0.85122237 0.67557287\n",
            "  0.58272201 0.81889768 0.49611081 0.70225191]\n",
            " [0.38550944 0.0850083  0.49588708 0.         0.36756013 0.81167324\n",
            "  0.42826798 0.32507663 0.49702599 0.33089419]\n",
            " [0.50768376 0.44975264 0.85122237 0.36756013 0.         0.9702984\n",
            "  0.52760901 0.07978022 0.66996626 0.27306567]\n",
            " [1.19391771 0.81916924 0.67557287 0.81167324 0.9702984  0.\n",
            "  0.44273871 0.99595116 0.31744897 0.69925352]\n",
            " [0.80888867 0.46896665 0.58272201 0.42826798 0.52760901 0.44273871\n",
            "  0.         0.55493769 0.15879019 0.25809559]\n",
            " [0.4280572  0.40234064 0.81889768 0.32507663 0.07978022 0.99595116\n",
            "  0.55493769 0.         0.68728547 0.31236553]\n",
            " [0.88161976 0.51274488 0.49611081 0.49702599 0.66996626 0.31744897\n",
            "  0.15879019 0.68728547 0.         0.40894806]\n",
            " [0.6507261  0.40718182 0.70225191 0.33089419 0.27306567 0.69925352\n",
            "  0.25809559 0.31236553 0.40894806 0.        ]]\n"
          ]
        }
      ],
      "source": [
        "Z = np.random.random((10,2))\n",
        "X,Y = np.atleast_2d(Z[:,0], Z[:,1])\n",
        "D = np.sqrt( (X-X.T)**2 + (Y-Y.T)**2)\n",
        "print(D)\n",
        "\n",
        "# Much faster with scipy\n",
        "import scipy\n",
        "# Thanks Gavin Heverly-Coulson (#issue 1)\n",
        "import scipy.spatial\n",
        "\n",
        "Z = np.random.random((10,2))\n",
        "D = scipy.spatial.distance.cdist(Z,Z)\n",
        "print(D)"
      ]
    },
    {
      "cell_type": "markdown",
      "metadata": {
        "id": "34fse3Xvj46a"
      },
      "source": [
        "#### 53. How to convert a float (32 bits) array into an integer (32 bits) in place? \n",
        "(**hint**: astype(copy=False))"
      ]
    },
    {
      "cell_type": "code",
      "execution_count": 54,
      "metadata": {
        "id": "QhpA6lB1j46a",
        "colab": {
          "base_uri": "https://localhost:8080/"
        },
        "outputId": "a92ae9ea-c5b4-44a9-ba9e-f3e1905e4e1e"
      },
      "outputs": [
        {
          "output_type": "stream",
          "name": "stdout",
          "text": [
            "[0. 1. 2. 3. 4. 5. 6. 7. 8. 9.]\n"
          ]
        }
      ],
      "source": [
        "Z = np.arange(10, dtype=np.int32)\n",
        "Z = Z.astype(np.float32, copy=False)\n",
        "print(Z)"
      ]
    },
    {
      "cell_type": "markdown",
      "metadata": {
        "id": "R_9YDeoaj46b"
      },
      "source": [
        "#### 54. How to read the following file? (★★☆) \n",
        "(**hint**: np.genfromtxt)"
      ]
    },
    {
      "cell_type": "markdown",
      "metadata": {
        "id": "5GeYuYGrj46b"
      },
      "source": [
        "```\n",
        "1, 2, 3, 4, 5\n",
        "6,  ,  , 7, 8\n",
        " ,  , 9,10,11\n",
        "```"
      ]
    },
    {
      "cell_type": "code",
      "execution_count": 55,
      "metadata": {
        "id": "hmK2uZHmj46b",
        "colab": {
          "base_uri": "https://localhost:8080/"
        },
        "outputId": "b6a99e4b-2704-4369-a0ff-4931ddff2236"
      },
      "outputs": [
        {
          "output_type": "stream",
          "name": "stdout",
          "text": [
            "[[ 1  2  3  4  5]\n",
            " [ 6 -1 -1  7  8]\n",
            " [-1 -1  9 10 11]]\n"
          ]
        },
        {
          "output_type": "stream",
          "name": "stderr",
          "text": [
            "/usr/local/lib/python3.7/dist-packages/ipykernel_launcher.py:7: DeprecationWarning: `np.int` is a deprecated alias for the builtin `int`. To silence this warning, use `int` by itself. Doing this will not modify any behavior and is safe. When replacing `np.int`, you may wish to use e.g. `np.int64` or `np.int32` to specify the precision. If you wish to review your current use, check the release note link for additional information.\n",
            "Deprecated in NumPy 1.20; for more details and guidance: https://numpy.org/devdocs/release/1.20.0-notes.html#deprecations\n",
            "  import sys\n"
          ]
        }
      ],
      "source": [
        "from io import StringIO\n",
        "\n",
        "# Fake file \n",
        "s = StringIO(\"\"\"1, 2, 3, 4, 5\\n\n",
        "                6,  ,  , 7, 8\\n\n",
        "                 ,  , 9,10,11\\n\"\"\")\n",
        "Z = np.genfromtxt(s, delimiter=\",\", dtype=np.int)\n",
        "print(Z)"
      ]
    },
    {
      "cell_type": "markdown",
      "metadata": {
        "id": "Vu0-V2KEj46b"
      },
      "source": [
        "#### 55. What is the equivalent of enumerate for numpy arrays? (★★☆) \n",
        "(**hint**: np.ndenumerate, np.ndindex)"
      ]
    },
    {
      "cell_type": "code",
      "execution_count": 56,
      "metadata": {
        "id": "2HJabXAtj46b",
        "colab": {
          "base_uri": "https://localhost:8080/"
        },
        "outputId": "ebf9baa4-a26a-45c7-9768-8e752e5ea389"
      },
      "outputs": [
        {
          "output_type": "stream",
          "name": "stdout",
          "text": [
            "(0, 0) 0\n",
            "(0, 1) 1\n",
            "(0, 2) 2\n",
            "(1, 0) 3\n",
            "(1, 1) 4\n",
            "(1, 2) 5\n",
            "(2, 0) 6\n",
            "(2, 1) 7\n",
            "(2, 2) 8\n",
            "(0, 0) 0\n",
            "(0, 1) 1\n",
            "(0, 2) 2\n",
            "(1, 0) 3\n",
            "(1, 1) 4\n",
            "(1, 2) 5\n",
            "(2, 0) 6\n",
            "(2, 1) 7\n",
            "(2, 2) 8\n"
          ]
        }
      ],
      "source": [
        "Z = np.arange(9).reshape(3,3)\n",
        "for index, value in np.ndenumerate(Z):\n",
        "    print(index, value)\n",
        "for index in np.ndindex(Z.shape):\n",
        "    print(index, Z[index])"
      ]
    },
    {
      "cell_type": "markdown",
      "metadata": {
        "id": "7uapzEfMj46c"
      },
      "source": [
        "#### 56. Generate a generic 2D Gaussian-like array (★★☆) \n",
        "(**hint**: np.meshgrid, np.exp)"
      ]
    },
    {
      "cell_type": "code",
      "execution_count": 57,
      "metadata": {
        "id": "xoragcGOj46c",
        "colab": {
          "base_uri": "https://localhost:8080/"
        },
        "outputId": "42dfc38d-3fe1-4718-c708-e6701726bc43"
      },
      "outputs": [
        {
          "output_type": "stream",
          "name": "stdout",
          "text": [
            "[[0.36787944 0.44822088 0.51979489 0.57375342 0.60279818 0.60279818\n",
            "  0.57375342 0.51979489 0.44822088 0.36787944]\n",
            " [0.44822088 0.54610814 0.63331324 0.69905581 0.73444367 0.73444367\n",
            "  0.69905581 0.63331324 0.54610814 0.44822088]\n",
            " [0.51979489 0.63331324 0.73444367 0.81068432 0.85172308 0.85172308\n",
            "  0.81068432 0.73444367 0.63331324 0.51979489]\n",
            " [0.57375342 0.69905581 0.81068432 0.89483932 0.9401382  0.9401382\n",
            "  0.89483932 0.81068432 0.69905581 0.57375342]\n",
            " [0.60279818 0.73444367 0.85172308 0.9401382  0.98773022 0.98773022\n",
            "  0.9401382  0.85172308 0.73444367 0.60279818]\n",
            " [0.60279818 0.73444367 0.85172308 0.9401382  0.98773022 0.98773022\n",
            "  0.9401382  0.85172308 0.73444367 0.60279818]\n",
            " [0.57375342 0.69905581 0.81068432 0.89483932 0.9401382  0.9401382\n",
            "  0.89483932 0.81068432 0.69905581 0.57375342]\n",
            " [0.51979489 0.63331324 0.73444367 0.81068432 0.85172308 0.85172308\n",
            "  0.81068432 0.73444367 0.63331324 0.51979489]\n",
            " [0.44822088 0.54610814 0.63331324 0.69905581 0.73444367 0.73444367\n",
            "  0.69905581 0.63331324 0.54610814 0.44822088]\n",
            " [0.36787944 0.44822088 0.51979489 0.57375342 0.60279818 0.60279818\n",
            "  0.57375342 0.51979489 0.44822088 0.36787944]]\n"
          ]
        }
      ],
      "source": [
        "X, Y = np.meshgrid(np.linspace(-1,1,10), np.linspace(-1,1,10))\n",
        "D = np.sqrt(X*X+Y*Y)\n",
        "sigma, mu = 1.0, 0.0\n",
        "G = np.exp(-( (D-mu)**2 / ( 2.0 * sigma**2 ) ) )\n",
        "print(G)"
      ]
    },
    {
      "cell_type": "markdown",
      "metadata": {
        "id": "f7Mtckloj46c"
      },
      "source": [
        "#### 57. How to randomly place p elements in a 2D array? (★★☆) \n",
        "(**hint**: np.put, np.random.choice)"
      ]
    },
    {
      "cell_type": "code",
      "execution_count": 58,
      "metadata": {
        "id": "va3dAGVSj46c",
        "colab": {
          "base_uri": "https://localhost:8080/"
        },
        "outputId": "f9e4d394-bc70-4d72-b789-1ab9499e382d"
      },
      "outputs": [
        {
          "output_type": "stream",
          "name": "stdout",
          "text": [
            "[[0. 0. 1. 0. 0. 1. 0. 0. 1. 0.]\n",
            " [0. 0. 0. 0. 0. 0. 0. 0. 0. 0.]\n",
            " [0. 0. 0. 0. 0. 0. 0. 0. 0. 0.]\n",
            " [0. 0. 0. 0. 0. 0. 0. 0. 0. 0.]\n",
            " [0. 0. 0. 0. 0. 0. 0. 0. 0. 0.]\n",
            " [0. 0. 0. 0. 0. 0. 0. 0. 0. 0.]\n",
            " [0. 0. 0. 0. 0. 0. 0. 0. 0. 0.]\n",
            " [0. 0. 0. 0. 0. 0. 0. 0. 0. 0.]\n",
            " [0. 0. 0. 0. 0. 0. 0. 0. 0. 0.]\n",
            " [0. 0. 0. 0. 0. 0. 0. 0. 0. 0.]]\n"
          ]
        }
      ],
      "source": [
        "n = 10\n",
        "p = 3\n",
        "Z = np.zeros((n,n))\n",
        "np.put(Z, np.random.choice(range(n*n), p, replace=False),1)\n",
        "print(Z)"
      ]
    },
    {
      "cell_type": "markdown",
      "metadata": {
        "id": "8BnYnLvyj46c"
      },
      "source": [
        "#### 58. Subtract the mean of each row of a matrix (★★☆) \n",
        "(**hint**: mean(axis=,keepdims=))"
      ]
    },
    {
      "cell_type": "code",
      "execution_count": 59,
      "metadata": {
        "id": "InRZ1_iyj46c",
        "colab": {
          "base_uri": "https://localhost:8080/"
        },
        "outputId": "ee9c47c7-4d5a-4257-9f70-ffa7cf2abf40"
      },
      "outputs": [
        {
          "output_type": "stream",
          "name": "stdout",
          "text": [
            "[[ 0.07065648 -0.32961778  0.3346076   0.28627614 -0.11912933 -0.22604349\n",
            "   0.0905155  -0.33546678 -0.03074416  0.25894582]\n",
            " [-0.35045425 -0.11458897  0.47621059 -0.07462862  0.27710306 -0.36265806\n",
            "   0.28108678 -0.30742509  0.48937763 -0.31402306]\n",
            " [-0.1474373   0.5218767  -0.2011498  -0.00706169  0.11368942  0.02453651\n",
            "  -0.08161535  0.15919861 -0.11513289 -0.26690421]\n",
            " [ 0.24747069 -0.3754708   0.4649875  -0.3198245  -0.39805242  0.02093232\n",
            "  -0.30585634  0.55040121 -0.38978067  0.505193  ]\n",
            " [-0.34592465 -0.06335184  0.06946478  0.34006185  0.28470011 -0.40191484\n",
            "  -0.15293291 -0.1195614   0.09291266  0.29654624]]\n"
          ]
        }
      ],
      "source": [
        "X = np.random.rand(5, 10)\n",
        "\n",
        "# Recent versions of numpy\n",
        "Y = X - X.mean(axis=1, keepdims=True)\n",
        "\n",
        "# Older versions of numpy\n",
        "Y = X - X.mean(axis=1).reshape(-1, 1)\n",
        "\n",
        "print(Y)"
      ]
    },
    {
      "cell_type": "markdown",
      "metadata": {
        "id": "4bhJqRP-j46c"
      },
      "source": [
        "#### 59. How to sort an array by the nth column? (★★☆) \n",
        "(**hint**: argsort)"
      ]
    },
    {
      "cell_type": "code",
      "execution_count": 60,
      "metadata": {
        "id": "pLgnm1drj46c",
        "colab": {
          "base_uri": "https://localhost:8080/"
        },
        "outputId": "93e2e6b8-07da-4844-8194-c9b97c495e2c"
      },
      "outputs": [
        {
          "output_type": "stream",
          "name": "stdout",
          "text": [
            "[[6 2 5]\n",
            " [1 6 8]\n",
            " [1 5 5]]\n",
            "[[6 2 5]\n",
            " [1 5 5]\n",
            " [1 6 8]]\n"
          ]
        }
      ],
      "source": [
        "Z = np.random.randint(0,10,(3,3))\n",
        "print(Z)\n",
        "print(Z[Z[:,1].argsort()])"
      ]
    },
    {
      "cell_type": "markdown",
      "metadata": {
        "id": "k5CtRPRyj46c"
      },
      "source": [
        "#### 60. How to tell if a given 2D array has null columns? (★★☆) \n",
        "(**hint**: any, ~)"
      ]
    },
    {
      "cell_type": "code",
      "execution_count": 61,
      "metadata": {
        "id": "uhpSYuKTj46d",
        "colab": {
          "base_uri": "https://localhost:8080/"
        },
        "outputId": "7c090aac-0edb-4f0d-d335-cd4f6fa9a7da"
      },
      "outputs": [
        {
          "output_type": "stream",
          "name": "stdout",
          "text": [
            "False\n"
          ]
        }
      ],
      "source": [
        "Z = np.random.randint(0,3,(3,10))\n",
        "print((~Z.any(axis=0)).any())"
      ]
    },
    {
      "cell_type": "markdown",
      "metadata": {
        "id": "gbnX79egj46d"
      },
      "source": [
        "#### 61. Find the nearest value from a given value in an array (★★☆) \n",
        "(**hint**: np.abs, argmin, flat)"
      ]
    },
    {
      "cell_type": "code",
      "execution_count": 62,
      "metadata": {
        "id": "1y6pk7Wyj46d",
        "colab": {
          "base_uri": "https://localhost:8080/"
        },
        "outputId": "9c5df6e6-c2fa-4078-d6f1-1eba1ab9546a"
      },
      "outputs": [
        {
          "output_type": "stream",
          "name": "stdout",
          "text": [
            "0.4951949608888817\n"
          ]
        }
      ],
      "source": [
        "Z = np.random.uniform(0,1,10)\n",
        "z = 0.5\n",
        "m = Z.flat[np.abs(Z - z).argmin()]\n",
        "print(m)"
      ]
    },
    {
      "cell_type": "markdown",
      "metadata": {
        "id": "zRyIaHQ6j46d"
      },
      "source": [
        "#### 62. Considering two arrays with shape (1,3) and (3,1), how to compute their sum using an iterator? (★★☆) \n",
        "(**hint**: np.nditer)"
      ]
    },
    {
      "cell_type": "code",
      "execution_count": 63,
      "metadata": {
        "id": "NZNJVOI5j46d",
        "colab": {
          "base_uri": "https://localhost:8080/"
        },
        "outputId": "abf72e58-615c-4a52-860b-e14be7afcae2"
      },
      "outputs": [
        {
          "output_type": "stream",
          "name": "stdout",
          "text": [
            "[[0 1 2]\n",
            " [1 2 3]\n",
            " [2 3 4]]\n"
          ]
        }
      ],
      "source": [
        "A = np.arange(3).reshape(3,1)\n",
        "B = np.arange(3).reshape(1,3)\n",
        "it = np.nditer([A,B,None])\n",
        "for x,y,z in it: z[...] = x + y\n",
        "print(it.operands[2])"
      ]
    },
    {
      "cell_type": "markdown",
      "metadata": {
        "id": "SFKUUR1Ij46d"
      },
      "source": [
        "#### 63. Create an array class that has a name attribute (★★☆) \n",
        "(**hint**: class method)"
      ]
    },
    {
      "cell_type": "code",
      "execution_count": 64,
      "metadata": {
        "id": "0qkZrOsQj46d",
        "colab": {
          "base_uri": "https://localhost:8080/"
        },
        "outputId": "543bde6f-b5ee-4ed5-87ec-e0c57419fb81"
      },
      "outputs": [
        {
          "output_type": "stream",
          "name": "stdout",
          "text": [
            "range_10\n"
          ]
        }
      ],
      "source": [
        "class NamedArray(np.ndarray):\n",
        "    def __new__(cls, array, name=\"no name\"):\n",
        "        obj = np.asarray(array).view(cls)\n",
        "        obj.name = name\n",
        "        return obj\n",
        "    def __array_finalize__(self, obj):\n",
        "        if obj is None: return\n",
        "        self.info = getattr(obj, 'name', \"no name\")\n",
        "\n",
        "Z = NamedArray(np.arange(10), \"range_10\")\n",
        "print (Z.name)"
      ]
    },
    {
      "cell_type": "markdown",
      "metadata": {
        "id": "K5anYk2zj46d"
      },
      "source": [
        "#### 64. Consider a given vector, how to add 1 to each element indexed by a second vector (be careful with repeated indices)? (★★★) \n",
        "(**hint**: np.bincount | np.add.at)"
      ]
    },
    {
      "cell_type": "code",
      "execution_count": 65,
      "metadata": {
        "id": "OOXDBtCcj46d",
        "colab": {
          "base_uri": "https://localhost:8080/"
        },
        "outputId": "cb7aadfc-3c97-474d-f821-21a3628dad5f"
      },
      "outputs": [
        {
          "output_type": "stream",
          "name": "stdout",
          "text": [
            "[2. 3. 2. 3. 3. 3. 5. 4. 4. 1.]\n",
            "[3. 5. 3. 5. 5. 5. 9. 7. 7. 1.]\n"
          ]
        }
      ],
      "source": [
        "Z = np.ones(10)\n",
        "I = np.random.randint(0,len(Z),20)\n",
        "Z += np.bincount(I, minlength=len(Z))\n",
        "print(Z)\n",
        "\n",
        "# Another solution\n",
        "# Author: Bartosz Telenczuk\n",
        "np.add.at(Z, I, 1)\n",
        "print(Z)"
      ]
    },
    {
      "cell_type": "markdown",
      "metadata": {
        "id": "1UtLuP5aj46d"
      },
      "source": [
        "#### 65. How to accumulate elements of a vector (X) to an array (F) based on an index list (I)? (★★★) \n",
        "(**hint**: np.bincount)"
      ]
    },
    {
      "cell_type": "code",
      "execution_count": 66,
      "metadata": {
        "id": "E5vXnHtdj46e",
        "colab": {
          "base_uri": "https://localhost:8080/"
        },
        "outputId": "f7ce7576-5450-464d-87b3-4b29be2ff47a"
      },
      "outputs": [
        {
          "output_type": "stream",
          "name": "stdout",
          "text": [
            "[0. 7. 0. 6. 5. 0. 0. 0. 0. 3.]\n"
          ]
        }
      ],
      "source": [
        "X = [1,2,3,4,5,6]\n",
        "I = [1,3,9,3,4,1]\n",
        "F = np.bincount(I,X)\n",
        "print(F)"
      ]
    },
    {
      "cell_type": "markdown",
      "metadata": {
        "id": "gRiGsvfWj46e"
      },
      "source": [
        "#### 66. Considering a (w,h,3) image of (dtype=ubyte), compute the number of unique colors (★★★) \n",
        "(**hint**: np.unique)"
      ]
    },
    {
      "cell_type": "code",
      "execution_count": 67,
      "metadata": {
        "id": "emUgXJkdj46e",
        "colab": {
          "base_uri": "https://localhost:8080/"
        },
        "outputId": "4fb76a66-79f2-451e-bd07-74310c2f8c33"
      },
      "outputs": [
        {
          "output_type": "stream",
          "name": "stdout",
          "text": [
            "8\n"
          ]
        }
      ],
      "source": [
        "w,h = 16,16\n",
        "I = np.random.randint(0,2,(h,w,3)).astype(np.ubyte)\n",
        "#Note that we should compute 256*256 first. \n",
        "#Otherwise numpy will only promote F.dtype to 'uint16' and overfolw will occur\n",
        "F = I[...,0]*(256*256) + I[...,1]*256 +I[...,2]\n",
        "n = len(np.unique(F))\n",
        "print(n)"
      ]
    },
    {
      "cell_type": "markdown",
      "metadata": {
        "id": "eAY5iIs6j46e"
      },
      "source": [
        "#### 67. Considering a four dimensions array, how to get sum over the last two axis at once? (★★★) \n",
        "(**hint**: sum(axis=(-2,-1)))"
      ]
    },
    {
      "cell_type": "code",
      "execution_count": 68,
      "metadata": {
        "id": "1al4kAGHj46e",
        "colab": {
          "base_uri": "https://localhost:8080/"
        },
        "outputId": "76c02770-40c7-4573-b8aa-3a829617f0af"
      },
      "outputs": [
        {
          "output_type": "stream",
          "name": "stdout",
          "text": [
            "[[61 49 46 67]\n",
            " [75 63 62 46]\n",
            " [53 54 53 55]]\n",
            "[[61 49 46 67]\n",
            " [75 63 62 46]\n",
            " [53 54 53 55]]\n"
          ]
        }
      ],
      "source": [
        "A = np.random.randint(0,10,(3,4,3,4))\n",
        "# solution by passing a tuple of axes (introduced in numpy 1.7.0)\n",
        "sum = A.sum(axis=(-2,-1))\n",
        "print(sum)\n",
        "# solution by flattening the last two dimensions into one\n",
        "# (useful for functions that don't accept tuples for axis argument)\n",
        "sum = A.reshape(A.shape[:-2] + (-1,)).sum(axis=-1)\n",
        "print(sum)"
      ]
    },
    {
      "cell_type": "markdown",
      "metadata": {
        "id": "Mc4WMY8wj46e"
      },
      "source": [
        "#### 68. Considering a one-dimensional vector D, how to compute means of subsets of D using a vector S of same size describing subset  indices? (★★★) \n",
        "(**hint**: np.bincount)"
      ]
    },
    {
      "cell_type": "code",
      "execution_count": 69,
      "metadata": {
        "id": "h5v3g4Sdj46f",
        "colab": {
          "base_uri": "https://localhost:8080/"
        },
        "outputId": "2cd63a0d-1306-4af4-f87a-e0795d50759a"
      },
      "outputs": [
        {
          "output_type": "stream",
          "name": "stdout",
          "text": [
            "[0.58826839 0.42810352 0.58360173 0.4365816  0.49008946 0.55386572\n",
            " 0.41974061 0.54916011 0.50837465 0.38717847]\n",
            "0    0.588268\n",
            "1    0.428104\n",
            "2    0.583602\n",
            "3    0.436582\n",
            "4    0.490089\n",
            "5    0.553866\n",
            "6    0.419741\n",
            "7    0.549160\n",
            "8    0.508375\n",
            "9    0.387178\n",
            "dtype: float64\n"
          ]
        }
      ],
      "source": [
        "D = np.random.uniform(0,1,100)\n",
        "S = np.random.randint(0,10,100)\n",
        "D_sums = np.bincount(S, weights=D)\n",
        "D_counts = np.bincount(S)\n",
        "D_means = D_sums / D_counts\n",
        "print(D_means)\n",
        "\n",
        "\n",
        "import pandas as pd\n",
        "print(pd.Series(D).groupby(S).mean())"
      ]
    },
    {
      "cell_type": "markdown",
      "metadata": {
        "id": "ISA2v6Aij46f"
      },
      "source": [
        "#### 69. How to get the diagonal of a dot product? (★★★) \n",
        "(**hint**: np.diag)"
      ]
    },
    {
      "cell_type": "code",
      "execution_count": 70,
      "metadata": {
        "id": "oi0VVGiHj46f",
        "colab": {
          "base_uri": "https://localhost:8080/"
        },
        "outputId": "726c6e41-1a67-472e-e23f-3ae96d5f9f83"
      },
      "outputs": [
        {
          "output_type": "execute_result",
          "data": {
            "text/plain": [
              "array([1.81168958, 0.95349389, 1.35031766, 2.37852115, 0.7425016 ])"
            ]
          },
          "metadata": {},
          "execution_count": 70
        }
      ],
      "source": [
        "A = np.random.uniform(0,1,(5,5))\n",
        "B = np.random.uniform(0,1,(5,5))\n",
        "\n",
        "# Slow version  \n",
        "np.diag(np.dot(A, B))\n",
        "\n",
        "# Fast version\n",
        "np.sum(A * B.T, axis=1)\n",
        "\n",
        "# Faster version\n",
        "np.einsum(\"ij,ji->i\", A, B)"
      ]
    },
    {
      "cell_type": "markdown",
      "metadata": {
        "id": "V5f_yC0Aj46f"
      },
      "source": [
        "#### 70. Consider the vector \\[1, 2, 3, 4, 5\\], how to build a new vector with 3 consecutive zeros interleaved between each value? (★★★) \n",
        "(**hint**: array\\[::4\\])"
      ]
    },
    {
      "cell_type": "code",
      "execution_count": 71,
      "metadata": {
        "id": "BmyVuWlPj46f",
        "colab": {
          "base_uri": "https://localhost:8080/"
        },
        "outputId": "9621ece9-86d1-48f4-92e9-5063ecee8b2d"
      },
      "outputs": [
        {
          "output_type": "stream",
          "name": "stdout",
          "text": [
            "[1. 0. 0. 0. 2. 0. 0. 0. 3. 0. 0. 0. 4. 0. 0. 0. 5.]\n"
          ]
        }
      ],
      "source": [
        "Z = np.array([1,2,3,4,5])\n",
        "nz = 3\n",
        "Z0 = np.zeros(len(Z) + (len(Z)-1)*(nz))\n",
        "Z0[::nz+1] = Z\n",
        "print(Z0)"
      ]
    },
    {
      "cell_type": "markdown",
      "metadata": {
        "id": "HXjgQtwwj46f"
      },
      "source": [
        "#### 71. Consider an array of dimension (5,5,3), how to mulitply it by an array with dimensions (5,5)? (★★★) \n",
        "(**hint**: array\\[:, :, None\\])"
      ]
    },
    {
      "cell_type": "code",
      "execution_count": 72,
      "metadata": {
        "collapsed": true,
        "id": "_2iqyQLnj46g",
        "colab": {
          "base_uri": "https://localhost:8080/"
        },
        "outputId": "2eba2cbb-4cab-410a-9339-594156e4caab"
      },
      "outputs": [
        {
          "output_type": "stream",
          "name": "stdout",
          "text": [
            "[[[2. 2. 2.]\n",
            "  [2. 2. 2.]\n",
            "  [2. 2. 2.]\n",
            "  [2. 2. 2.]\n",
            "  [2. 2. 2.]]\n",
            "\n",
            " [[2. 2. 2.]\n",
            "  [2. 2. 2.]\n",
            "  [2. 2. 2.]\n",
            "  [2. 2. 2.]\n",
            "  [2. 2. 2.]]\n",
            "\n",
            " [[2. 2. 2.]\n",
            "  [2. 2. 2.]\n",
            "  [2. 2. 2.]\n",
            "  [2. 2. 2.]\n",
            "  [2. 2. 2.]]\n",
            "\n",
            " [[2. 2. 2.]\n",
            "  [2. 2. 2.]\n",
            "  [2. 2. 2.]\n",
            "  [2. 2. 2.]\n",
            "  [2. 2. 2.]]\n",
            "\n",
            " [[2. 2. 2.]\n",
            "  [2. 2. 2.]\n",
            "  [2. 2. 2.]\n",
            "  [2. 2. 2.]\n",
            "  [2. 2. 2.]]]\n"
          ]
        }
      ],
      "source": [
        "A = np.ones((5,5,3))\n",
        "B = 2*np.ones((5,5))\n",
        "print(A * B[:,:,None])"
      ]
    },
    {
      "cell_type": "markdown",
      "metadata": {
        "id": "5cHVDzrpj46g"
      },
      "source": [
        "#### 72. How to swap two rows of an array? (★★★) \n",
        "(**hint**: array\\[\\[\\]\\] = array\\[\\[\\]\\])"
      ]
    },
    {
      "cell_type": "code",
      "execution_count": 73,
      "metadata": {
        "id": "Bpmyjm9kj46g",
        "colab": {
          "base_uri": "https://localhost:8080/"
        },
        "outputId": "fc801ab0-8f77-476f-c770-63d48dbf12d0"
      },
      "outputs": [
        {
          "output_type": "stream",
          "name": "stdout",
          "text": [
            "[[ 5  6  7  8  9]\n",
            " [ 0  1  2  3  4]\n",
            " [10 11 12 13 14]\n",
            " [15 16 17 18 19]\n",
            " [20 21 22 23 24]]\n"
          ]
        }
      ],
      "source": [
        "A = np.arange(25).reshape(5,5)\n",
        "A[[0,1]] = A[[1,0]]\n",
        "print(A)"
      ]
    },
    {
      "cell_type": "markdown",
      "metadata": {
        "id": "EM9apaOYj46g"
      },
      "source": [
        "#### 73. Consider a set of 10 triplets describing 10 triangles (with shared vertices), find the set of unique line segments composing all the  triangles (★★★) \n",
        "(**hint**: repeat, np.roll, np.sort, view, np.unique)"
      ]
    },
    {
      "cell_type": "code",
      "execution_count": 74,
      "metadata": {
        "id": "sPObxuydj46g",
        "colab": {
          "base_uri": "https://localhost:8080/"
        },
        "outputId": "2955fdf1-f524-4fef-8e6b-31f7a14643b4"
      },
      "outputs": [
        {
          "output_type": "stream",
          "name": "stdout",
          "text": [
            "[( 3, 77) ( 3, 85) ( 6, 41) ( 6, 50) ( 8, 14) ( 8, 35) ( 8, 82) ( 8, 90)\n",
            " (11, 56) (11, 96) (12, 67) (12, 98) (14, 90) (18, 86) (18, 96) (26, 44)\n",
            " (26, 56) (35, 82) (41, 50) (42, 92) (42, 94) (44, 56) (46, 93) (46, 94)\n",
            " (56, 96) (67, 98) (77, 85) (86, 96) (92, 94) (93, 94)]\n"
          ]
        }
      ],
      "source": [
        "faces = np.random.randint(0,100,(10,3))\n",
        "F = np.roll(faces.repeat(2,axis=1),-1,axis=1)\n",
        "F = F.reshape(len(F)*3,2)\n",
        "F = np.sort(F,axis=1)\n",
        "G = F.view( dtype=[('p0',F.dtype),('p1',F.dtype)] )\n",
        "G = np.unique(G)\n",
        "print(G)"
      ]
    },
    {
      "cell_type": "markdown",
      "metadata": {
        "id": "JrmPL0Otj46g"
      },
      "source": [
        "#### 74. Given an array C that is a bincount, how to produce an array A such that np.bincount(A) == C? (★★★) \n",
        "(**hint**: np.repeat)"
      ]
    },
    {
      "cell_type": "code",
      "execution_count": 75,
      "metadata": {
        "id": "if79ChxCj46g",
        "colab": {
          "base_uri": "https://localhost:8080/"
        },
        "outputId": "dbab4b3a-0da8-4d6d-fff4-2f26ebe81d41"
      },
      "outputs": [
        {
          "output_type": "stream",
          "name": "stdout",
          "text": [
            "[1 1 2 3 4 4 6]\n"
          ]
        }
      ],
      "source": [
        "C = np.bincount([1,1,2,3,4,4,6])\n",
        "A = np.repeat(np.arange(len(C)), C)\n",
        "print(A)"
      ]
    },
    {
      "cell_type": "markdown",
      "metadata": {
        "id": "cmsNl3sAj46g"
      },
      "source": [
        "#### 75. How to compute averages using a sliding window over an array? (★★★) \n",
        "(**hint**: np.cumsum)"
      ]
    },
    {
      "cell_type": "code",
      "execution_count": 76,
      "metadata": {
        "id": "lo8nm2t1j46g",
        "colab": {
          "base_uri": "https://localhost:8080/"
        },
        "outputId": "53682d9a-3616-42b6-b1ca-1e9ecbfd9017"
      },
      "outputs": [
        {
          "output_type": "stream",
          "name": "stdout",
          "text": [
            "[ 1.  2.  3.  4.  5.  6.  7.  8.  9. 10. 11. 12. 13. 14. 15. 16. 17. 18.]\n"
          ]
        }
      ],
      "source": [
        "def moving_average(a, n=3) :\n",
        "    ret = np.cumsum(a, dtype=float)\n",
        "    ret[n:] = ret[n:] - ret[:-n]\n",
        "    return ret[n - 1:] / n\n",
        "Z = np.arange(20)\n",
        "print(moving_average(Z, n=3))"
      ]
    },
    {
      "cell_type": "markdown",
      "metadata": {
        "id": "l1bI_CMcj46h"
      },
      "source": [
        "#### 76. Consider a one-dimensional array Z, build a two-dimensional array whose first row is (Z\\[0\\],Z\\[1\\],Z\\[2\\]) and each subsequent row is  shifted by 1 (last row should be (Z\\[-3\\],Z\\[-2\\],Z\\[-1\\]) (★★★) \n",
        "(**hint**: from numpy.lib import stride_tricks)"
      ]
    },
    {
      "cell_type": "code",
      "execution_count": 77,
      "metadata": {
        "id": "HtrhDzSKj46h",
        "colab": {
          "base_uri": "https://localhost:8080/"
        },
        "outputId": "767c8b8a-429e-43f6-dc9f-92a23bf4257a"
      },
      "outputs": [
        {
          "output_type": "stream",
          "name": "stdout",
          "text": [
            "[[0 1 2]\n",
            " [1 2 3]\n",
            " [2 3 4]\n",
            " [3 4 5]\n",
            " [4 5 6]\n",
            " [5 6 7]\n",
            " [6 7 8]\n",
            " [7 8 9]]\n"
          ]
        }
      ],
      "source": [
        "from numpy.lib import stride_tricks\n",
        "\n",
        "def rolling(a, window):\n",
        "    shape = (a.size - window + 1, window)\n",
        "    strides = (a.itemsize, a.itemsize)\n",
        "    return stride_tricks.as_strided(a, shape=shape, strides=strides)\n",
        "Z = rolling(np.arange(10), 3)\n",
        "print(Z)"
      ]
    },
    {
      "cell_type": "markdown",
      "metadata": {
        "id": "6f3xPTNFj46h"
      },
      "source": [
        "#### 77. How to negate a boolean, or to change the sign of a float inplace? (★★★) \n",
        "(**hint**: np.logical_not, np.negative)"
      ]
    },
    {
      "cell_type": "code",
      "execution_count": 78,
      "metadata": {
        "id": "J2VGKUygj46h",
        "colab": {
          "base_uri": "https://localhost:8080/"
        },
        "outputId": "ca714826-ca6b-40ae-8e4c-643d0239800a"
      },
      "outputs": [
        {
          "output_type": "execute_result",
          "data": {
            "text/plain": [
              "array([ 0.59198354, -0.66172258, -0.13810379, -0.83074595,  0.08160452,\n",
              "        0.92755608, -0.51119504, -0.7476845 ,  0.95872494, -0.81480837,\n",
              "        0.36263629, -0.19593485, -0.84992522, -0.39804843, -0.01402457,\n",
              "       -0.42871021,  0.21300625,  0.09872211, -0.1340565 , -0.18453208,\n",
              "        0.81386054,  0.78527825, -0.99433449, -0.43067306,  0.94761051,\n",
              "       -0.86805622,  0.89807692,  0.03080954, -0.52279791,  0.16301774,\n",
              "        0.16653368, -0.90514394,  0.57566894,  0.09262426,  0.87194675,\n",
              "       -0.00277081,  0.51185974, -0.12976579,  0.06501524,  0.74116348,\n",
              "       -0.83121159, -0.47704551, -0.3792885 , -0.22520557, -0.66210486,\n",
              "        0.58191658,  0.12824554, -0.27294668,  0.2075558 , -0.98189105,\n",
              "       -0.28282761,  0.24172529,  0.54710755, -0.76084605,  0.82371867,\n",
              "       -0.85677272, -0.48827545,  0.6595942 ,  0.22820908, -0.61161249,\n",
              "        0.93975715,  0.58793926, -0.9111916 ,  0.83439203, -0.42937373,\n",
              "       -0.91671576, -0.07511677, -0.07096653, -0.76173772, -0.07363112,\n",
              "       -0.43373473,  0.56627637, -0.91244654,  0.92980523, -0.86584843,\n",
              "        0.66979902,  0.78398908,  0.75977338, -0.30060558,  0.12624936,\n",
              "       -0.28864046, -0.13829583,  0.53717033,  0.02429245, -0.35394276,\n",
              "        0.11555714,  0.16406245, -0.87396859,  0.69671571, -0.87270732,\n",
              "       -0.22865723,  0.95727305,  0.93151453, -0.3748279 ,  0.20423492,\n",
              "       -0.23108415,  0.48217295,  0.8561235 , -0.23232522,  0.83642966])"
            ]
          },
          "metadata": {},
          "execution_count": 78
        }
      ],
      "source": [
        "Z = np.random.randint(0,2,100)\n",
        "np.logical_not(Z, out=Z)\n",
        "\n",
        "Z = np.random.uniform(-1.0,1.0,100)\n",
        "np.negative(Z, out=Z)"
      ]
    },
    {
      "cell_type": "markdown",
      "metadata": {
        "id": "QQIm3Ezij46h"
      },
      "source": [
        "#### 78. Consider 2 sets of points P0,P1 describing lines (2d) and a point p, how to compute distance from p to each line i  (P0\\[i\\],P1\\[i\\])? (★★★)"
      ]
    },
    {
      "cell_type": "code",
      "execution_count": 79,
      "metadata": {
        "id": "vDsd_Svwj46h",
        "colab": {
          "base_uri": "https://localhost:8080/"
        },
        "outputId": "62c31527-4d19-4889-fdec-85180b7aee60"
      },
      "outputs": [
        {
          "output_type": "stream",
          "name": "stdout",
          "text": [
            "[ 4.15718717  2.13168741  9.09070552  1.29408941 10.81254228  9.88647131\n",
            "  3.59320637  8.45066986  3.78761049  1.9530331 ]\n"
          ]
        }
      ],
      "source": [
        "def distance(P0, P1, p):\n",
        "    T = P1 - P0\n",
        "    L = (T**2).sum(axis=1)\n",
        "    U = -((P0[:,0]-p[...,0])*T[:,0] + (P0[:,1]-p[...,1])*T[:,1]) / L\n",
        "    U = U.reshape(len(U),1)\n",
        "    D = P0 + U*T - p\n",
        "    return np.sqrt((D**2).sum(axis=1))\n",
        "\n",
        "P0 = np.random.uniform(-10,10,(10,2))\n",
        "P1 = np.random.uniform(-10,10,(10,2))\n",
        "p  = np.random.uniform(-10,10,( 1,2))\n",
        "print(distance(P0, P1, p))"
      ]
    },
    {
      "cell_type": "markdown",
      "metadata": {
        "id": "qjXGnwXPj46h"
      },
      "source": [
        "#### 79. Consider 2 sets of points P0,P1 describing lines (2d) and a set of points P, how to compute distance from each point j (P\\[j\\]) to each line i (P0\\[i\\],P1\\[i\\])? (★★★)"
      ]
    },
    {
      "cell_type": "code",
      "execution_count": 80,
      "metadata": {
        "id": "gK29rjJEj46h",
        "colab": {
          "base_uri": "https://localhost:8080/"
        },
        "outputId": "726bbeb7-4776-411b-86b0-cdedd00bb12b"
      },
      "outputs": [
        {
          "output_type": "stream",
          "name": "stdout",
          "text": [
            "[[ 1.40217484  0.11168875  6.31455641  4.86366182  3.79807974 10.99242341\n",
            "   9.69341668  0.15284329  2.63009856  7.04169711]\n",
            " [11.51479592  8.92457698  1.09749699  7.31471967  7.92489824  1.770694\n",
            "   2.94659231 10.21245682  5.40161311  6.1536121 ]\n",
            " [ 4.58040005  3.23121653  6.48098754  3.29646077  0.65068774  7.8488487\n",
            "   6.67964424  3.02991008  2.61418136  4.74520897]\n",
            " [ 4.31503916  1.69789611  2.61544666  4.79768254  1.04043449  9.00410568\n",
            "   3.44235328  3.03667332  6.51215019  1.79721877]\n",
            " [13.64218676 12.22888803  7.69221493  0.50481741  8.16470279  1.18655754\n",
            "   1.6302619  12.0825045   3.30915535  1.25634258]\n",
            " [ 0.88423835  1.65916121  9.57233338  9.04971931  6.78890814 12.92190913\n",
            "  13.15894158  2.54384896  6.03583634 11.19801287]\n",
            " [ 5.49884164  4.28382952  7.60750271  3.82017103  0.0268453   6.8344146\n",
            "   6.22298501  3.91730452  3.69335924  4.8811564 ]\n",
            " [19.06045445 16.95549701  3.75463225  6.99934918 14.43852922  6.13080869\n",
            "   8.38972435 17.63514343  0.96026804  8.30127499]\n",
            " [ 1.35020185  2.76923019  4.89049007  5.06178667  6.2484046  13.84060662\n",
            "  11.81170759  2.8707397   1.35758906  8.08148329]\n",
            " [12.00986115  9.94115457  2.71493811  4.12983881  7.60057604  0.90882237\n",
            "   1.96150977 10.59462122  1.59877055  3.70385565]]\n"
          ]
        }
      ],
      "source": [
        "P0 = np.random.uniform(-10, 10, (10,2))\n",
        "P1 = np.random.uniform(-10,10,(10,2))\n",
        "p = np.random.uniform(-10, 10, (10,2))\n",
        "print(np.array([distance(P0,P1,p_i) for p_i in p]))"
      ]
    },
    {
      "cell_type": "markdown",
      "metadata": {
        "id": "uHdpoQ_uj46h"
      },
      "source": [
        "#### 80. Consider an arbitrary array, write a function that extract a subpart with a fixed shape and centered on a given element (pad with a `fill` value when necessary) (★★★) \n",
        "(**hint**: minimum, maximum)"
      ]
    },
    {
      "cell_type": "code",
      "execution_count": 81,
      "metadata": {
        "id": "u7osK77xj46i",
        "colab": {
          "base_uri": "https://localhost:8080/"
        },
        "outputId": "284f5a7a-17bb-4f26-f97e-3179d73c6059"
      },
      "outputs": [
        {
          "output_type": "stream",
          "name": "stdout",
          "text": [
            "[[5 1 2 8 8 7 0 2 5 7]\n",
            " [9 8 0 9 4 4 2 1 7 6]\n",
            " [7 0 8 9 2 3 4 6 6 0]\n",
            " [2 9 8 9 4 8 6 2 1 7]\n",
            " [5 7 7 8 5 4 4 9 3 5]\n",
            " [8 3 6 7 1 8 2 7 0 3]\n",
            " [8 6 2 8 4 4 5 4 8 1]\n",
            " [2 8 8 9 8 1 4 3 7 5]\n",
            " [7 0 8 3 1 9 7 3 9 8]\n",
            " [6 8 7 6 2 6 0 9 5 6]]\n",
            "[[0 0 0 0 0]\n",
            " [0 5 1 2 8]\n",
            " [0 9 8 0 9]\n",
            " [0 7 0 8 9]\n",
            " [0 2 9 8 9]]\n"
          ]
        },
        {
          "output_type": "stream",
          "name": "stderr",
          "text": [
            "/usr/local/lib/python3.7/dist-packages/ipykernel_launcher.py:23: FutureWarning: Using a non-tuple sequence for multidimensional indexing is deprecated; use `arr[tuple(seq)]` instead of `arr[seq]`. In the future this will be interpreted as an array index, `arr[np.array(seq)]`, which will result either in an error or a different result.\n"
          ]
        }
      ],
      "source": [
        "Z = np.random.randint(0,10,(10,10))\n",
        "shape = (5,5)\n",
        "fill  = 0\n",
        "position = (1,1)\n",
        "\n",
        "R = np.ones(shape, dtype=Z.dtype)*fill\n",
        "P  = np.array(list(position)).astype(int)\n",
        "Rs = np.array(list(R.shape)).astype(int)\n",
        "Zs = np.array(list(Z.shape)).astype(int)\n",
        "\n",
        "R_start = np.zeros((len(shape),)).astype(int)\n",
        "R_stop  = np.array(list(shape)).astype(int)\n",
        "Z_start = (P-Rs//2)\n",
        "Z_stop  = (P+Rs//2)+Rs%2\n",
        "\n",
        "R_start = (R_start - np.minimum(Z_start,0)).tolist()\n",
        "Z_start = (np.maximum(Z_start,0)).tolist()\n",
        "R_stop = np.maximum(R_start, (R_stop - np.maximum(Z_stop-Zs,0))).tolist()\n",
        "Z_stop = (np.minimum(Z_stop,Zs)).tolist()\n",
        "\n",
        "r = [slice(start,stop) for start,stop in zip(R_start,R_stop)]\n",
        "z = [slice(start,stop) for start,stop in zip(Z_start,Z_stop)]\n",
        "R[r] = Z[z]\n",
        "print(Z)\n",
        "print(R)"
      ]
    },
    {
      "cell_type": "markdown",
      "metadata": {
        "id": "_qXoxQGXj46i"
      },
      "source": [
        "#### 81. Consider an array Z = \\[1,2,3,4,5,6,7,8,9,10,11,12,13,14\\], how to generate an array R = \\[\\[1,2,3,4\\], \\[2,3,4,5\\], \\[3,4,5,6\\], ..., \\[11,12,13,14\\]\\]? (★★★) \n",
        "(**hint**: stride\\_tricks.as\\_strided)"
      ]
    },
    {
      "cell_type": "code",
      "execution_count": 82,
      "metadata": {
        "id": "pAtDQG5pj46i",
        "colab": {
          "base_uri": "https://localhost:8080/"
        },
        "outputId": "47ed9851-dd62-455b-d2ef-b0a3856c6be0"
      },
      "outputs": [
        {
          "output_type": "stream",
          "name": "stdout",
          "text": [
            "[[ 1  2  3  4]\n",
            " [ 2  3  4  5]\n",
            " [ 3  4  5  6]\n",
            " [ 4  5  6  7]\n",
            " [ 5  6  7  8]\n",
            " [ 6  7  8  9]\n",
            " [ 7  8  9 10]\n",
            " [ 8  9 10 11]\n",
            " [ 9 10 11 12]\n",
            " [10 11 12 13]\n",
            " [11 12 13 14]]\n"
          ]
        }
      ],
      "source": [
        "Z = np.arange(1,15,dtype=np.uint32)\n",
        "R = stride_tricks.as_strided(Z,(11,4),(4,4))\n",
        "print(R)"
      ]
    },
    {
      "cell_type": "markdown",
      "metadata": {
        "id": "MN0maUY8j46i"
      },
      "source": [
        "#### 82. Compute a matrix rank (★★★) \n",
        "(**hint**: np.linalg.svd) (suggestion: np.linalg.svd)"
      ]
    },
    {
      "cell_type": "code",
      "execution_count": 83,
      "metadata": {
        "id": "rdQjm3Amj46i",
        "colab": {
          "base_uri": "https://localhost:8080/"
        },
        "outputId": "4e96f61d-d16d-4dbb-8969-a7f0fcccb35a"
      },
      "outputs": [
        {
          "output_type": "stream",
          "name": "stdout",
          "text": [
            "10\n"
          ]
        }
      ],
      "source": [
        "Z = np.random.uniform(0,1,(10,10))\n",
        "U, S, V = np.linalg.svd(Z) # Singular Value Decomposition\n",
        "rank = np.sum(S > 1e-10)\n",
        "print(rank)"
      ]
    },
    {
      "cell_type": "markdown",
      "metadata": {
        "id": "QVwGf7d8j46i"
      },
      "source": [
        "#### 83. How to find the most frequent value in an array? \n",
        "(**hint**: np.bincount, argmax)"
      ]
    },
    {
      "cell_type": "code",
      "execution_count": 84,
      "metadata": {
        "id": "hg32Es7Cj46i",
        "colab": {
          "base_uri": "https://localhost:8080/"
        },
        "outputId": "f7241390-5ad7-45eb-d8be-6824b8d86dd5"
      },
      "outputs": [
        {
          "output_type": "stream",
          "name": "stdout",
          "text": [
            "0\n"
          ]
        }
      ],
      "source": [
        "Z = np.random.randint(0,10,50)\n",
        "print(np.bincount(Z).argmax())"
      ]
    },
    {
      "cell_type": "markdown",
      "metadata": {
        "id": "yqwMuwzjj46i"
      },
      "source": [
        "#### 84. Extract all the contiguous 3x3 blocks from a random 10x10 matrix (★★★) \n",
        "(**hint**: stride\\_tricks.as\\_strided)"
      ]
    },
    {
      "cell_type": "code",
      "execution_count": 85,
      "metadata": {
        "id": "tzDuf_N-j46i",
        "colab": {
          "base_uri": "https://localhost:8080/"
        },
        "outputId": "282d4d60-a492-42fa-fe72-3995475978b0"
      },
      "outputs": [
        {
          "output_type": "stream",
          "name": "stdout",
          "text": [
            "[[[[1 3 1]\n",
            "   [0 1 0]\n",
            "   [1 3 0]]\n",
            "\n",
            "  [[3 1 4]\n",
            "   [1 0 4]\n",
            "   [3 0 4]]\n",
            "\n",
            "  [[1 4 4]\n",
            "   [0 4 2]\n",
            "   [0 4 0]]\n",
            "\n",
            "  [[4 4 0]\n",
            "   [4 2 2]\n",
            "   [4 0 1]]\n",
            "\n",
            "  [[4 0 3]\n",
            "   [2 2 4]\n",
            "   [0 1 3]]\n",
            "\n",
            "  [[0 3 0]\n",
            "   [2 4 0]\n",
            "   [1 3 1]]\n",
            "\n",
            "  [[3 0 1]\n",
            "   [4 0 2]\n",
            "   [3 1 4]]\n",
            "\n",
            "  [[0 1 4]\n",
            "   [0 2 4]\n",
            "   [1 4 0]]]\n",
            "\n",
            "\n",
            " [[[0 1 0]\n",
            "   [1 3 0]\n",
            "   [1 1 3]]\n",
            "\n",
            "  [[1 0 4]\n",
            "   [3 0 4]\n",
            "   [1 3 3]]\n",
            "\n",
            "  [[0 4 2]\n",
            "   [0 4 0]\n",
            "   [3 3 0]]\n",
            "\n",
            "  [[4 2 2]\n",
            "   [4 0 1]\n",
            "   [3 0 1]]\n",
            "\n",
            "  [[2 2 4]\n",
            "   [0 1 3]\n",
            "   [0 1 0]]\n",
            "\n",
            "  [[2 4 0]\n",
            "   [1 3 1]\n",
            "   [1 0 4]]\n",
            "\n",
            "  [[4 0 2]\n",
            "   [3 1 4]\n",
            "   [0 4 2]]\n",
            "\n",
            "  [[0 2 4]\n",
            "   [1 4 0]\n",
            "   [4 2 1]]]\n",
            "\n",
            "\n",
            " [[[1 3 0]\n",
            "   [1 1 3]\n",
            "   [2 0 0]]\n",
            "\n",
            "  [[3 0 4]\n",
            "   [1 3 3]\n",
            "   [0 0 4]]\n",
            "\n",
            "  [[0 4 0]\n",
            "   [3 3 0]\n",
            "   [0 4 1]]\n",
            "\n",
            "  [[4 0 1]\n",
            "   [3 0 1]\n",
            "   [4 1 2]]\n",
            "\n",
            "  [[0 1 3]\n",
            "   [0 1 0]\n",
            "   [1 2 0]]\n",
            "\n",
            "  [[1 3 1]\n",
            "   [1 0 4]\n",
            "   [2 0 1]]\n",
            "\n",
            "  [[3 1 4]\n",
            "   [0 4 2]\n",
            "   [0 1 4]]\n",
            "\n",
            "  [[1 4 0]\n",
            "   [4 2 1]\n",
            "   [1 4 3]]]\n",
            "\n",
            "\n",
            " [[[1 1 3]\n",
            "   [2 0 0]\n",
            "   [4 2 3]]\n",
            "\n",
            "  [[1 3 3]\n",
            "   [0 0 4]\n",
            "   [2 3 3]]\n",
            "\n",
            "  [[3 3 0]\n",
            "   [0 4 1]\n",
            "   [3 3 2]]\n",
            "\n",
            "  [[3 0 1]\n",
            "   [4 1 2]\n",
            "   [3 2 4]]\n",
            "\n",
            "  [[0 1 0]\n",
            "   [1 2 0]\n",
            "   [2 4 3]]\n",
            "\n",
            "  [[1 0 4]\n",
            "   [2 0 1]\n",
            "   [4 3 3]]\n",
            "\n",
            "  [[0 4 2]\n",
            "   [0 1 4]\n",
            "   [3 3 3]]\n",
            "\n",
            "  [[4 2 1]\n",
            "   [1 4 3]\n",
            "   [3 3 1]]]\n",
            "\n",
            "\n",
            " [[[2 0 0]\n",
            "   [4 2 3]\n",
            "   [1 1 4]]\n",
            "\n",
            "  [[0 0 4]\n",
            "   [2 3 3]\n",
            "   [1 4 0]]\n",
            "\n",
            "  [[0 4 1]\n",
            "   [3 3 2]\n",
            "   [4 0 0]]\n",
            "\n",
            "  [[4 1 2]\n",
            "   [3 2 4]\n",
            "   [0 0 3]]\n",
            "\n",
            "  [[1 2 0]\n",
            "   [2 4 3]\n",
            "   [0 3 4]]\n",
            "\n",
            "  [[2 0 1]\n",
            "   [4 3 3]\n",
            "   [3 4 2]]\n",
            "\n",
            "  [[0 1 4]\n",
            "   [3 3 3]\n",
            "   [4 2 4]]\n",
            "\n",
            "  [[1 4 3]\n",
            "   [3 3 1]\n",
            "   [2 4 2]]]\n",
            "\n",
            "\n",
            " [[[4 2 3]\n",
            "   [1 1 4]\n",
            "   [1 1 1]]\n",
            "\n",
            "  [[2 3 3]\n",
            "   [1 4 0]\n",
            "   [1 1 2]]\n",
            "\n",
            "  [[3 3 2]\n",
            "   [4 0 0]\n",
            "   [1 2 2]]\n",
            "\n",
            "  [[3 2 4]\n",
            "   [0 0 3]\n",
            "   [2 2 2]]\n",
            "\n",
            "  [[2 4 3]\n",
            "   [0 3 4]\n",
            "   [2 2 1]]\n",
            "\n",
            "  [[4 3 3]\n",
            "   [3 4 2]\n",
            "   [2 1 1]]\n",
            "\n",
            "  [[3 3 3]\n",
            "   [4 2 4]\n",
            "   [1 1 3]]\n",
            "\n",
            "  [[3 3 1]\n",
            "   [2 4 2]\n",
            "   [1 3 0]]]\n",
            "\n",
            "\n",
            " [[[1 1 4]\n",
            "   [1 1 1]\n",
            "   [4 1 4]]\n",
            "\n",
            "  [[1 4 0]\n",
            "   [1 1 2]\n",
            "   [1 4 2]]\n",
            "\n",
            "  [[4 0 0]\n",
            "   [1 2 2]\n",
            "   [4 2 4]]\n",
            "\n",
            "  [[0 0 3]\n",
            "   [2 2 2]\n",
            "   [2 4 3]]\n",
            "\n",
            "  [[0 3 4]\n",
            "   [2 2 1]\n",
            "   [4 3 0]]\n",
            "\n",
            "  [[3 4 2]\n",
            "   [2 1 1]\n",
            "   [3 0 2]]\n",
            "\n",
            "  [[4 2 4]\n",
            "   [1 1 3]\n",
            "   [0 2 4]]\n",
            "\n",
            "  [[2 4 2]\n",
            "   [1 3 0]\n",
            "   [2 4 2]]]\n",
            "\n",
            "\n",
            " [[[1 1 1]\n",
            "   [4 1 4]\n",
            "   [1 1 1]]\n",
            "\n",
            "  [[1 1 2]\n",
            "   [1 4 2]\n",
            "   [1 1 4]]\n",
            "\n",
            "  [[1 2 2]\n",
            "   [4 2 4]\n",
            "   [1 4 0]]\n",
            "\n",
            "  [[2 2 2]\n",
            "   [2 4 3]\n",
            "   [4 0 2]]\n",
            "\n",
            "  [[2 2 1]\n",
            "   [4 3 0]\n",
            "   [0 2 2]]\n",
            "\n",
            "  [[2 1 1]\n",
            "   [3 0 2]\n",
            "   [2 2 1]]\n",
            "\n",
            "  [[1 1 3]\n",
            "   [0 2 4]\n",
            "   [2 1 2]]\n",
            "\n",
            "  [[1 3 0]\n",
            "   [2 4 2]\n",
            "   [1 2 2]]]]\n"
          ]
        }
      ],
      "source": [
        "Z = np.random.randint(0,5,(10,10))\n",
        "n = 3\n",
        "i = 1 + (Z.shape[0]-3)\n",
        "j = 1 + (Z.shape[1]-3)\n",
        "C = stride_tricks.as_strided(Z, shape=(i, j, n, n), strides=Z.strides + Z.strides)\n",
        "print(C)"
      ]
    },
    {
      "cell_type": "markdown",
      "metadata": {
        "id": "zGQHvUGXj46j"
      },
      "source": [
        "#### 85. Create a 2D array subclass such that Z\\[i,j\\] == Z\\[j,i\\] (★★★) \n",
        "(**hint**: class method)"
      ]
    },
    {
      "cell_type": "code",
      "execution_count": 86,
      "metadata": {
        "id": "QpksO-lDj46j",
        "colab": {
          "base_uri": "https://localhost:8080/"
        },
        "outputId": "d97a45be-0fd0-42f3-955c-169dfcbf2566"
      },
      "outputs": [
        {
          "output_type": "stream",
          "name": "stdout",
          "text": [
            "[[ 3 15 10 10  4]\n",
            " [15  3  8  8  4]\n",
            " [10  8  2 42 12]\n",
            " [10  8 42  2  4]\n",
            " [ 4  4 12  4  2]]\n"
          ]
        }
      ],
      "source": [
        "class Symetric(np.ndarray):\n",
        "    def __setitem__(self, index, value):\n",
        "        i,j = index\n",
        "        super(Symetric, self).__setitem__((i,j), value)\n",
        "        super(Symetric, self).__setitem__((j,i), value)\n",
        "\n",
        "def symetric(Z):\n",
        "    return np.asarray(Z + Z.T - np.diag(Z.diagonal())).view(Symetric)\n",
        "\n",
        "S = symetric(np.random.randint(0,10,(5,5)))\n",
        "S[2,3] = 42\n",
        "print(S)"
      ]
    },
    {
      "cell_type": "markdown",
      "metadata": {
        "id": "BipWxHZUj46j"
      },
      "source": [
        "#### 86. Consider a set of p matrices wich shape (n,n) and a set of p vectors with shape (n,1). How to compute the sum of of the p matrix products at once? (result has shape (n,1)) (★★★) \n",
        "(**hint**: np.tensordot)"
      ]
    },
    {
      "cell_type": "code",
      "execution_count": 87,
      "metadata": {
        "id": "Qu6fMiNQj46j",
        "colab": {
          "base_uri": "https://localhost:8080/"
        },
        "outputId": "7a6d973a-d5e1-45ab-e4c6-479d817c8524"
      },
      "outputs": [
        {
          "output_type": "stream",
          "name": "stdout",
          "text": [
            "[[200.]\n",
            " [200.]\n",
            " [200.]\n",
            " [200.]\n",
            " [200.]\n",
            " [200.]\n",
            " [200.]\n",
            " [200.]\n",
            " [200.]\n",
            " [200.]\n",
            " [200.]\n",
            " [200.]\n",
            " [200.]\n",
            " [200.]\n",
            " [200.]\n",
            " [200.]\n",
            " [200.]\n",
            " [200.]\n",
            " [200.]\n",
            " [200.]]\n"
          ]
        }
      ],
      "source": [
        "p, n = 10, 20\n",
        "M = np.ones((p,n,n))\n",
        "V = np.ones((p,n,1))\n",
        "S = np.tensordot(M, V, axes=[[0, 2], [0, 1]])\n",
        "print(S)"
      ]
    },
    {
      "cell_type": "markdown",
      "metadata": {
        "id": "pYLDthVcj46j"
      },
      "source": [
        "#### 87. Consider a 16x16 array, how to get the block-sum (block size is 4x4)? (★★★) \n",
        "(**hint**: np.add.reduceat)"
      ]
    },
    {
      "cell_type": "code",
      "execution_count": 88,
      "metadata": {
        "id": "pshJsdXwj46j",
        "colab": {
          "base_uri": "https://localhost:8080/"
        },
        "outputId": "065e7ba1-8091-456a-91df-f2500c8e1adb"
      },
      "outputs": [
        {
          "output_type": "stream",
          "name": "stdout",
          "text": [
            "[[16. 16. 16. 16.]\n",
            " [16. 16. 16. 16.]\n",
            " [16. 16. 16. 16.]\n",
            " [16. 16. 16. 16.]]\n"
          ]
        }
      ],
      "source": [
        "Z = np.ones((16,16))\n",
        "k = 4\n",
        "S = np.add.reduceat(np.add.reduceat(Z, np.arange(0, Z.shape[0], k), axis=0),\n",
        "                                       np.arange(0, Z.shape[1], k), axis=1)\n",
        "print(S)"
      ]
    },
    {
      "cell_type": "markdown",
      "metadata": {
        "id": "EeIuwUaZj46j"
      },
      "source": [
        "#### 88. How to implement the Game of Life using numpy arrays? (★★★)"
      ]
    },
    {
      "cell_type": "code",
      "execution_count": 89,
      "metadata": {
        "id": "pV0tjh3dj46j",
        "colab": {
          "base_uri": "https://localhost:8080/"
        },
        "outputId": "b5f9b3d5-8ef7-4261-8ad0-39349b3e6144"
      },
      "outputs": [
        {
          "output_type": "stream",
          "name": "stdout",
          "text": [
            "[[0 0 0 ... 0 0 0]\n",
            " [0 0 0 ... 0 0 0]\n",
            " [0 0 0 ... 0 0 0]\n",
            " ...\n",
            " [0 1 1 ... 0 0 0]\n",
            " [0 1 1 ... 0 0 0]\n",
            " [0 0 0 ... 0 0 0]]\n"
          ]
        }
      ],
      "source": [
        "def iterate(Z):\n",
        "    # Count neighbours\n",
        "    N = (Z[0:-2,0:-2] + Z[0:-2,1:-1] + Z[0:-2,2:] +\n",
        "         Z[1:-1,0:-2]                + Z[1:-1,2:] +\n",
        "         Z[2:  ,0:-2] + Z[2:  ,1:-1] + Z[2:  ,2:])\n",
        "\n",
        "    # Apply rules\n",
        "    birth = (N==3) & (Z[1:-1,1:-1]==0)\n",
        "    survive = ((N==2) | (N==3)) & (Z[1:-1,1:-1]==1)\n",
        "    Z[...] = 0\n",
        "    Z[1:-1,1:-1][birth | survive] = 1\n",
        "    return Z\n",
        "\n",
        "Z = np.random.randint(0,2,(50,50))\n",
        "for i in range(100): Z = iterate(Z)\n",
        "print(Z)"
      ]
    },
    {
      "cell_type": "markdown",
      "metadata": {
        "id": "c_ycJUDQj46j"
      },
      "source": [
        "#### 89. How to get the n largest values of an array (★★★) \n",
        "(**hint**: np.argsort | np.argpartition)"
      ]
    },
    {
      "cell_type": "code",
      "execution_count": 90,
      "metadata": {
        "id": "VO1HEPwHj46k",
        "colab": {
          "base_uri": "https://localhost:8080/"
        },
        "outputId": "754de350-df72-4a1c-fae0-def97d173408"
      },
      "outputs": [
        {
          "output_type": "stream",
          "name": "stdout",
          "text": [
            "[9995 9996 9997 9998 9999]\n",
            "[9999 9996 9998 9997 9995]\n"
          ]
        }
      ],
      "source": [
        "Z = np.arange(10000)\n",
        "np.random.shuffle(Z)\n",
        "n = 5\n",
        "\n",
        "# Slow\n",
        "print (Z[np.argsort(Z)[-n:]])\n",
        "\n",
        "# Fast\n",
        "print (Z[np.argpartition(-Z,n)[:n]])"
      ]
    },
    {
      "cell_type": "markdown",
      "metadata": {
        "id": "iXsq8s9Kj46k"
      },
      "source": [
        "#### 90. Given an arbitrary number of vectors, build the cartesian product (every combinations of every item) (★★★) \n",
        "(**hint**: np.indices)"
      ]
    },
    {
      "cell_type": "code",
      "execution_count": 91,
      "metadata": {
        "scrolled": true,
        "id": "Tl-9sr98j46k",
        "colab": {
          "base_uri": "https://localhost:8080/"
        },
        "outputId": "6911983e-36c7-49e0-e592-4ae22090366d"
      },
      "outputs": [
        {
          "output_type": "stream",
          "name": "stdout",
          "text": [
            "[[1 4 6]\n",
            " [1 4 7]\n",
            " [1 5 6]\n",
            " [1 5 7]\n",
            " [2 4 6]\n",
            " [2 4 7]\n",
            " [2 5 6]\n",
            " [2 5 7]\n",
            " [3 4 6]\n",
            " [3 4 7]\n",
            " [3 5 6]\n",
            " [3 5 7]]\n"
          ]
        }
      ],
      "source": [
        "def cartesian(arrays):\n",
        "    arrays = [np.asarray(a) for a in arrays]\n",
        "    shape = (len(x) for x in arrays)\n",
        "\n",
        "    ix = np.indices(shape, dtype=int)\n",
        "    ix = ix.reshape(len(arrays), -1).T\n",
        "\n",
        "    for n, arr in enumerate(arrays):\n",
        "        ix[:, n] = arrays[n][ix[:, n]]\n",
        "\n",
        "    return ix\n",
        "\n",
        "print (cartesian(([1, 2, 3], [4, 5], [6, 7])))"
      ]
    },
    {
      "cell_type": "markdown",
      "metadata": {
        "id": "lVtWPG42j46k"
      },
      "source": [
        "#### 91. How to create a record array from a regular array? (★★★) \n",
        "(**hint**: np.core.records.fromarrays)"
      ]
    },
    {
      "cell_type": "code",
      "execution_count": 92,
      "metadata": {
        "id": "FXdlVA8Ij46k",
        "colab": {
          "base_uri": "https://localhost:8080/"
        },
        "outputId": "b495818d-a7c3-45c3-d776-e744bba378f3"
      },
      "outputs": [
        {
          "output_type": "stream",
          "name": "stdout",
          "text": [
            "[(b'Hello', 2.5, 3) (b'World', 3.6, 2)]\n"
          ]
        }
      ],
      "source": [
        "Z = np.array([(\"Hello\", 2.5, 3),\n",
        "              (\"World\", 3.6, 2)])\n",
        "R = np.core.records.fromarrays(Z.T, \n",
        "                               names='col1, col2, col3',\n",
        "                               formats = 'S8, f8, i8')\n",
        "print(R)"
      ]
    },
    {
      "cell_type": "markdown",
      "metadata": {
        "id": "EpBy3wBsj46k"
      },
      "source": [
        "#### 92. Consider a large vector Z, compute Z to the power of 3 using 3 different methods (★★★) \n",
        "(**hint**: np.power, \\*, np.einsum)"
      ]
    },
    {
      "cell_type": "code",
      "execution_count": 93,
      "metadata": {
        "id": "3IajTMTRj46k",
        "colab": {
          "base_uri": "https://localhost:8080/"
        },
        "outputId": "19e14ee2-9881-4d5b-9e0c-31d346745d33"
      },
      "outputs": [
        {
          "output_type": "stream",
          "name": "stdout",
          "text": [
            "1 loop, best of 5: 3.74 s per loop\n",
            "10 loops, best of 5: 141 ms per loop\n",
            "10 loops, best of 5: 123 ms per loop\n"
          ]
        }
      ],
      "source": [
        "x = np.random.rand(int(5e7))\n",
        "\n",
        "%timeit np.power(x,3)\n",
        "%timeit x*x*x\n",
        "%timeit np.einsum('i,i,i->i',x,x,x)"
      ]
    },
    {
      "cell_type": "markdown",
      "metadata": {
        "id": "GqI0uUAKj46k"
      },
      "source": [
        "#### 93. Consider two arrays A and B of shape (8,3) and (2,2). How to find rows of A that contain elements of each row of B regardless of the order of the elements in B? (★★★) \n",
        "(**hint**: np.where)"
      ]
    },
    {
      "cell_type": "code",
      "execution_count": 94,
      "metadata": {
        "id": "yJEpc8Ofj46l",
        "colab": {
          "base_uri": "https://localhost:8080/"
        },
        "outputId": "8e7f8fd4-f143-4a69-91ff-6aa09723aefb"
      },
      "outputs": [
        {
          "output_type": "stream",
          "name": "stdout",
          "text": [
            "[0 2]\n"
          ]
        }
      ],
      "source": [
        "A = np.random.randint(0,5,(8,3))\n",
        "B = np.random.randint(0,5,(2,2))\n",
        "\n",
        "C = (A[..., np.newaxis, np.newaxis] == B)\n",
        "rows = np.where(C.any((3,1)).all(1))[0]\n",
        "print(rows)"
      ]
    },
    {
      "cell_type": "markdown",
      "metadata": {
        "id": "2xwAq0LBj46l"
      },
      "source": [
        "#### 94. Considering a 10x3 matrix, extract rows with unequal values (e.g. \\[2,2,3\\]) (★★★)"
      ]
    },
    {
      "cell_type": "code",
      "execution_count": 95,
      "metadata": {
        "id": "9PKv2tY6j46l",
        "colab": {
          "base_uri": "https://localhost:8080/"
        },
        "outputId": "6f40ea9c-9d67-4d45-95e0-b70f4924a6e8"
      },
      "outputs": [
        {
          "output_type": "stream",
          "name": "stdout",
          "text": [
            "[[2 3 4]\n",
            " [0 1 4]\n",
            " [1 0 4]\n",
            " [0 2 3]\n",
            " [3 4 4]\n",
            " [2 2 3]\n",
            " [4 2 3]\n",
            " [4 4 2]\n",
            " [0 0 0]\n",
            " [0 1 4]]\n",
            "[[2 3 4]\n",
            " [0 1 4]\n",
            " [1 0 4]\n",
            " [0 2 3]\n",
            " [3 4 4]\n",
            " [2 2 3]\n",
            " [4 2 3]\n",
            " [4 4 2]\n",
            " [0 1 4]]\n",
            "[[2 3 4]\n",
            " [0 1 4]\n",
            " [1 0 4]\n",
            " [0 2 3]\n",
            " [3 4 4]\n",
            " [2 2 3]\n",
            " [4 2 3]\n",
            " [4 4 2]\n",
            " [0 1 4]]\n"
          ]
        }
      ],
      "source": [
        "Z = np.random.randint(0,5,(10,3))\n",
        "print(Z)\n",
        "# solution for arrays of all dtypes (including string arrays and record arrays)\n",
        "E = np.all(Z[:,1:] == Z[:,:-1], axis=1)\n",
        "U = Z[~E]\n",
        "print(U)\n",
        "# soluiton for numerical arrays only, will work for any number of columns in Z\n",
        "U = Z[Z.max(axis=1) != Z.min(axis=1),:]\n",
        "print(U)"
      ]
    },
    {
      "cell_type": "markdown",
      "metadata": {
        "id": "4DOTvShDj46l"
      },
      "source": [
        "#### 95. Convert a vector of ints into a matrix binary representation (★★★) \n",
        "(**hint**: np.unpackbits)"
      ]
    },
    {
      "cell_type": "code",
      "execution_count": 96,
      "metadata": {
        "id": "uUJkg_tSj46l",
        "colab": {
          "base_uri": "https://localhost:8080/"
        },
        "outputId": "ad62b551-3033-41d8-a54c-3cc2198e387c"
      },
      "outputs": [
        {
          "output_type": "stream",
          "name": "stdout",
          "text": [
            "[[0 0 0 0 0 0 0 0]\n",
            " [0 0 0 0 0 0 0 1]\n",
            " [0 0 0 0 0 0 1 0]\n",
            " [0 0 0 0 0 0 1 1]\n",
            " [0 0 0 0 1 1 1 1]\n",
            " [0 0 0 1 0 0 0 0]\n",
            " [0 0 1 0 0 0 0 0]\n",
            " [0 1 0 0 0 0 0 0]\n",
            " [1 0 0 0 0 0 0 0]]\n",
            "[[0 0 0 0 0 0 0 0]\n",
            " [0 0 0 0 0 0 0 1]\n",
            " [0 0 0 0 0 0 1 0]\n",
            " [0 0 0 0 0 0 1 1]\n",
            " [0 0 0 0 1 1 1 1]\n",
            " [0 0 0 1 0 0 0 0]\n",
            " [0 0 1 0 0 0 0 0]\n",
            " [0 1 0 0 0 0 0 0]\n",
            " [1 0 0 0 0 0 0 0]]\n"
          ]
        }
      ],
      "source": [
        "I = np.array([0, 1, 2, 3, 15, 16, 32, 64, 128])\n",
        "B = ((I.reshape(-1,1) & (2**np.arange(8))) != 0).astype(int)\n",
        "print(B[:,::-1])\n",
        "\n",
        "# Author: Daniel T. McDonald\n",
        "\n",
        "I = np.array([0, 1, 2, 3, 15, 16, 32, 64, 128], dtype=np.uint8)\n",
        "print(np.unpackbits(I[:, np.newaxis], axis=1))"
      ]
    },
    {
      "cell_type": "markdown",
      "metadata": {
        "id": "1b9zUS4Xj46l"
      },
      "source": [
        "#### 96. Given a two dimensional array, how to extract unique rows? (★★★) \n",
        "(**hint**: np.ascontiguousarray)"
      ]
    },
    {
      "cell_type": "code",
      "execution_count": 97,
      "metadata": {
        "id": "oCwr7x7gj46l",
        "colab": {
          "base_uri": "https://localhost:8080/"
        },
        "outputId": "2a7eb685-6dc5-4323-b976-dd6fc24284c4"
      },
      "outputs": [
        {
          "output_type": "stream",
          "name": "stdout",
          "text": [
            "[[1 0 1]\n",
            " [1 1 0]\n",
            " [1 1 1]]\n"
          ]
        }
      ],
      "source": [
        "Z = np.random.randint(0,2,(6,3))\n",
        "T = np.ascontiguousarray(Z).view(np.dtype((np.void, Z.dtype.itemsize * Z.shape[1])))\n",
        "_, idx = np.unique(T, return_index=True)\n",
        "uZ = Z[idx]\n",
        "print(uZ)"
      ]
    },
    {
      "cell_type": "markdown",
      "metadata": {
        "id": "_8pYvhvwj46l"
      },
      "source": [
        "#### 97. Considering 2 vectors A & B, write the einsum equivalent of inner, outer, sum, and mul function (★★★) \n",
        "(**hint**: np.einsum)"
      ]
    },
    {
      "cell_type": "code",
      "execution_count": 98,
      "metadata": {
        "id": "vKLqUCmEj46l",
        "colab": {
          "base_uri": "https://localhost:8080/"
        },
        "outputId": "a96f6853-0b25-4c74-d526-ba667341b3e0"
      },
      "outputs": [
        {
          "output_type": "execute_result",
          "data": {
            "text/plain": [
              "array([[0.21578762, 0.0349606 , 0.18341099, 0.06840288, 0.1420241 ,\n",
              "        0.09262116, 0.22148549, 0.07268965, 0.0237237 , 0.13225664],\n",
              "       [0.68224296, 0.11053287, 0.57987968, 0.21626534, 0.4490292 ,\n",
              "        0.29283486, 0.70025757, 0.22981857, 0.07500581, 0.41814801],\n",
              "       [0.72646676, 0.11769774, 0.61746817, 0.23028392, 0.4781358 ,\n",
              "        0.31181676, 0.7456491 , 0.24471568, 0.07986777, 0.44525286],\n",
              "       [0.76455061, 0.12386785, 0.64983795, 0.24235618, 0.5032013 ,\n",
              "        0.32816326, 0.78473856, 0.2575445 , 0.08405471, 0.46859452],\n",
              "       [0.74311711, 0.12039533, 0.63162031, 0.23556194, 0.48909449,\n",
              "        0.31896349, 0.7627391 , 0.25032447, 0.08169831, 0.45545789],\n",
              "       [0.21612691, 0.03501557, 0.18369937, 0.06851043, 0.14224741,\n",
              "        0.0927668 , 0.22183374, 0.07280394, 0.023761  , 0.13246459],\n",
              "       [0.81772815, 0.13248335, 0.69503677, 0.25921302, 0.53820095,\n",
              "        0.35098832, 0.83932025, 0.27545775, 0.08990105, 0.50118714],\n",
              "       [0.72630817, 0.11767204, 0.61733338, 0.23023365, 0.47803142,\n",
              "        0.31174869, 0.74548632, 0.24466225, 0.07985034, 0.44515566],\n",
              "       [0.62298331, 0.10093198, 0.52951131, 0.19748053, 0.4100265 ,\n",
              "        0.26739921, 0.63943317, 0.20985652, 0.0684908 , 0.38182766],\n",
              "       [0.37876207, 0.06136473, 0.32193287, 0.12006443, 0.24928836,\n",
              "        0.16257367, 0.38876328, 0.12758879, 0.04164111, 0.23214399]])"
            ]
          },
          "metadata": {},
          "execution_count": 98
        }
      ],
      "source": [
        "A = np.random.uniform(0,1,10)\n",
        "B = np.random.uniform(0,1,10)\n",
        "\n",
        "np.einsum('i->', A)       \n",
        "np.einsum('i,i->i', A, B) \n",
        "np.einsum('i,i', A, B)   \n",
        "np.einsum('i,j->ij', A, B) "
      ]
    },
    {
      "cell_type": "markdown",
      "metadata": {
        "id": "xniBinBJj46l"
      },
      "source": [
        "#### 98. Considering a path described by two vectors (X,Y), how to sample it using equidistant samples (★★★)? \n",
        "(**hint**: np.cumsum, np.interp)"
      ]
    },
    {
      "cell_type": "code",
      "execution_count": 99,
      "metadata": {
        "collapsed": true,
        "id": "T9iGX9W5j46l"
      },
      "outputs": [],
      "source": [
        "phi = np.arange(0, 10*np.pi, 0.1)\n",
        "a = 1\n",
        "x = a*phi*np.cos(phi)\n",
        "y = a*phi*np.sin(phi)\n",
        "\n",
        "dr = (np.diff(x)**2 + np.diff(y)**2)**.5\n",
        "r = np.zeros_like(x)\n",
        "r[1:] = np.cumsum(dr)                \n",
        "r_int = np.linspace(0, r.max(), 200)\n",
        "x_int = np.interp(r_int, r, x)      \n",
        "y_int = np.interp(r_int, r, y)"
      ]
    },
    {
      "cell_type": "markdown",
      "metadata": {
        "id": "HTBWhfDKj46m"
      },
      "source": [
        "#### 99. Given an integer n and a 2D array X, select from X the rows which can be interpreted as draws from a multinomial distribution with n degrees, i.e., the rows which only contain integers and which sum to n. (★★★) \n",
        "(**hint**: np.logical\\_and.reduce, np.mod)"
      ]
    },
    {
      "cell_type": "code",
      "execution_count": 100,
      "metadata": {
        "id": "b3Y3m6b7j46m",
        "colab": {
          "base_uri": "https://localhost:8080/"
        },
        "outputId": "c180b45f-b5ea-463b-8811-2f68f1242c83"
      },
      "outputs": [
        {
          "output_type": "stream",
          "name": "stdout",
          "text": [
            "[[2. 0. 1. 1.]]\n"
          ]
        }
      ],
      "source": [
        "X = np.asarray([[1.0, 0.0, 3.0, 8.0],\n",
        "                [2.0, 0.0, 1.0, 1.0],\n",
        "                [1.5, 2.5, 1.0, 0.0]])\n",
        "n = 4\n",
        "M = np.logical_and.reduce(np.mod(X, 1) == 0, axis=-1)\n",
        "M &= (X.sum(axis=-1) == n)\n",
        "print(X[M])"
      ]
    },
    {
      "cell_type": "markdown",
      "metadata": {
        "id": "1xpvzh94j46m"
      },
      "source": [
        "#### 100. Compute bootstrapped 95% confidence intervals for the mean of a 1D array X (i.e., resample the elements of an array with replacement N times, compute the mean of each sample, and then compute percentiles over the means). (★★★) \n",
        "(**hint**: np.percentile)"
      ]
    },
    {
      "cell_type": "code",
      "execution_count": 101,
      "metadata": {
        "id": "G7eMf-tBj46m",
        "colab": {
          "base_uri": "https://localhost:8080/"
        },
        "outputId": "5f88fa4b-cd67-4384-e706-4586a6496d5c"
      },
      "outputs": [
        {
          "output_type": "stream",
          "name": "stdout",
          "text": [
            "[-0.25898741  0.08817451]\n"
          ]
        }
      ],
      "source": [
        "X = np.random.randn(100) # random 1D array\n",
        "N = 1000 # number of bootstrap samples\n",
        "idx = np.random.randint(0, X.size, (N, X.size))\n",
        "means = X[idx].mean(axis=1)\n",
        "confint = np.percentile(means, [2.5, 97.5])\n",
        "print(confint)"
      ]
    }
  ],
  "metadata": {
    "kernelspec": {
      "display_name": "Python 3",
      "language": "python",
      "name": "python3"
    },
    "language_info": {
      "codemirror_mode": {
        "name": "ipython",
        "version": 3
      },
      "file_extension": ".py",
      "mimetype": "text/x-python",
      "name": "python",
      "nbconvert_exporter": "python",
      "pygments_lexer": "ipython3",
      "version": "3.8.3"
    },
    "colab": {
      "name": "Task_2.ipynb",
      "provenance": [],
      "collapsed_sections": [
        "xiK6GKf6j46S"
      ]
    }
  },
  "nbformat": 4,
  "nbformat_minor": 0
}